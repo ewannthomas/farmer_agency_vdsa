{
 "cells": [
  {
   "cell_type": "markdown",
   "metadata": {},
   "source": [
    "# t-SNE - Prototype 2\n",
    "This t-SNE exercise utilizes a dataset which has been better restructured to suit a deep learning exercise. The final dataset includes all the pre-decided information except those stemming from:\n",
    "- benefits from government development programs\n",
    "- proactive measures\n",
    "- goverenment assistance information"
   ]
  },
  {
   "cell_type": "code",
   "execution_count": 2,
   "metadata": {},
   "outputs": [],
   "source": [
    "from pathlib import Path\n",
    "import pandas as pd\n",
    "import numpy as np\n",
    "\n",
    "\n",
    "#ML imports\n",
    "from sklearn.manifold import TSNE\n",
    "from sklearn.experimental import enable_iterative_imputer\n",
    "from sklearn.impute import IterativeImputer\n",
    "\n",
    "#graph imports\n",
    "import plotly.express as px\n",
    "import plotly.graph_objs as go"
   ]
  },
  {
   "cell_type": "code",
   "execution_count": 3,
   "metadata": {},
   "outputs": [
    {
     "data": {
      "text/plain": [
       "PosixPath('/mnt/d/work_isb/projects/frer/data/processed/tsne/tsne_prototype_2.csv')"
      ]
     },
     "execution_count": 3,
     "metadata": {},
     "output_type": "execute_result"
    }
   ],
   "source": [
    "#defining directories\n",
    "dir_path = Path.cwd().parents[2]\n",
    "processed_path = dir_path.joinpath(\"data/processed/tsne\")\n",
    "processed_file=processed_path.joinpath(\"tsne_prototype_2.csv\")\n",
    "processed_file\n"
   ]
  },
  {
   "cell_type": "markdown",
   "metadata": {},
   "source": [
    "## Data Wrangling"
   ]
  },
  {
   "cell_type": "markdown",
   "metadata": {},
   "source": [
    "Unlike prototype 1, we shall including the entire data and subset on the basis of `success` will not be considered."
   ]
  },
  {
   "cell_type": "code",
   "execution_count": 4,
   "metadata": {},
   "outputs": [
    {
     "data": {
      "text/html": [
       "<div>\n",
       "<style scoped>\n",
       "    .dataframe tbody tr th:only-of-type {\n",
       "        vertical-align: middle;\n",
       "    }\n",
       "\n",
       "    .dataframe tbody tr th {\n",
       "        vertical-align: top;\n",
       "    }\n",
       "\n",
       "    .dataframe thead th {\n",
       "        text-align: right;\n",
       "    }\n",
       "</style>\n",
       "<table border=\"1\" class=\"dataframe\">\n",
       "  <thead>\n",
       "    <tr style=\"text-align: right;\">\n",
       "      <th></th>\n",
       "      <th>hh_id_panel</th>\n",
       "      <th>sur_yr</th>\n",
       "      <th>facility_Area Of Courtyard</th>\n",
       "      <th>facility_Bathroom</th>\n",
       "      <th>facility_Cable TV</th>\n",
       "      <th>facility_Cooking Gas</th>\n",
       "      <th>facility_Drinking Water Well</th>\n",
       "      <th>facility_Electrified</th>\n",
       "      <th>facility_Internet Connection</th>\n",
       "      <th>facility_Residential House</th>\n",
       "      <th>...</th>\n",
       "      <th>unit_price_stock_pulses</th>\n",
       "      <th>total_value_stock_cereals</th>\n",
       "      <th>total_value_stock_cooking fuel</th>\n",
       "      <th>total_value_stock_fodders</th>\n",
       "      <th>total_value_stock_oil seeds</th>\n",
       "      <th>total_value_stock_other items</th>\n",
       "      <th>total_value_stock_pulses</th>\n",
       "      <th>total_prodn</th>\n",
       "      <th>diff</th>\n",
       "      <th>success</th>\n",
       "    </tr>\n",
       "  </thead>\n",
       "  <tbody>\n",
       "    <tr>\n",
       "      <th>0</th>\n",
       "      <td>IAPA0008</td>\n",
       "      <td>2010.0</td>\n",
       "      <td>1080.0</td>\n",
       "      <td>1.0</td>\n",
       "      <td>1.0</td>\n",
       "      <td>0.0</td>\n",
       "      <td>0.0</td>\n",
       "      <td>1.0</td>\n",
       "      <td>0.0</td>\n",
       "      <td>1.0</td>\n",
       "      <td>...</td>\n",
       "      <td>209.0</td>\n",
       "      <td>3088.0</td>\n",
       "      <td>520.0</td>\n",
       "      <td>NaN</td>\n",
       "      <td>NaN</td>\n",
       "      <td>230.0</td>\n",
       "      <td>142.0</td>\n",
       "      <td>NaN</td>\n",
       "      <td>NaN</td>\n",
       "      <td>NaN</td>\n",
       "    </tr>\n",
       "    <tr>\n",
       "      <th>1</th>\n",
       "      <td>IAPA0008</td>\n",
       "      <td>2011.0</td>\n",
       "      <td>1080.0</td>\n",
       "      <td>1.0</td>\n",
       "      <td>1.0</td>\n",
       "      <td>0.0</td>\n",
       "      <td>0.0</td>\n",
       "      <td>1.0</td>\n",
       "      <td>0.0</td>\n",
       "      <td>1.0</td>\n",
       "      <td>...</td>\n",
       "      <td>60.0</td>\n",
       "      <td>1280.0</td>\n",
       "      <td>826.0</td>\n",
       "      <td>NaN</td>\n",
       "      <td>NaN</td>\n",
       "      <td>430.0</td>\n",
       "      <td>30.0</td>\n",
       "      <td>NaN</td>\n",
       "      <td>NaN</td>\n",
       "      <td>NaN</td>\n",
       "    </tr>\n",
       "    <tr>\n",
       "      <th>2</th>\n",
       "      <td>IAPA0008</td>\n",
       "      <td>2012.0</td>\n",
       "      <td>1080.0</td>\n",
       "      <td>1.0</td>\n",
       "      <td>1.0</td>\n",
       "      <td>0.0</td>\n",
       "      <td>0.0</td>\n",
       "      <td>1.0</td>\n",
       "      <td>0.0</td>\n",
       "      <td>1.0</td>\n",
       "      <td>...</td>\n",
       "      <td>65.0</td>\n",
       "      <td>1560.0</td>\n",
       "      <td>630.0</td>\n",
       "      <td>NaN</td>\n",
       "      <td>NaN</td>\n",
       "      <td>1120.0</td>\n",
       "      <td>130.0</td>\n",
       "      <td>NaN</td>\n",
       "      <td>NaN</td>\n",
       "      <td>NaN</td>\n",
       "    </tr>\n",
       "    <tr>\n",
       "      <th>3</th>\n",
       "      <td>IAPA0008</td>\n",
       "      <td>2013.0</td>\n",
       "      <td>1080.0</td>\n",
       "      <td>1.0</td>\n",
       "      <td>1.0</td>\n",
       "      <td>0.0</td>\n",
       "      <td>0.0</td>\n",
       "      <td>1.0</td>\n",
       "      <td>0.0</td>\n",
       "      <td>1.0</td>\n",
       "      <td>...</td>\n",
       "      <td>65.0</td>\n",
       "      <td>3235.0</td>\n",
       "      <td>1150.0</td>\n",
       "      <td>NaN</td>\n",
       "      <td>NaN</td>\n",
       "      <td>NaN</td>\n",
       "      <td>195.0</td>\n",
       "      <td>93002.47</td>\n",
       "      <td>NaN</td>\n",
       "      <td>NaN</td>\n",
       "    </tr>\n",
       "    <tr>\n",
       "      <th>4</th>\n",
       "      <td>IAPA0009</td>\n",
       "      <td>2010.0</td>\n",
       "      <td>480.0</td>\n",
       "      <td>1.0</td>\n",
       "      <td>0.0</td>\n",
       "      <td>0.0</td>\n",
       "      <td>0.0</td>\n",
       "      <td>0.0</td>\n",
       "      <td>0.0</td>\n",
       "      <td>1.0</td>\n",
       "      <td>...</td>\n",
       "      <td>75.0</td>\n",
       "      <td>420.0</td>\n",
       "      <td>270.0</td>\n",
       "      <td>NaN</td>\n",
       "      <td>NaN</td>\n",
       "      <td>120.0</td>\n",
       "      <td>37.5</td>\n",
       "      <td>NaN</td>\n",
       "      <td>NaN</td>\n",
       "      <td>NaN</td>\n",
       "    </tr>\n",
       "    <tr>\n",
       "      <th>...</th>\n",
       "      <td>...</td>\n",
       "      <td>...</td>\n",
       "      <td>...</td>\n",
       "      <td>...</td>\n",
       "      <td>...</td>\n",
       "      <td>...</td>\n",
       "      <td>...</td>\n",
       "      <td>...</td>\n",
       "      <td>...</td>\n",
       "      <td>...</td>\n",
       "      <td>...</td>\n",
       "      <td>...</td>\n",
       "      <td>...</td>\n",
       "      <td>...</td>\n",
       "      <td>...</td>\n",
       "      <td>...</td>\n",
       "      <td>...</td>\n",
       "      <td>...</td>\n",
       "      <td>...</td>\n",
       "      <td>...</td>\n",
       "      <td>...</td>\n",
       "    </tr>\n",
       "    <tr>\n",
       "      <th>6772</th>\n",
       "      <td>IORB0203</td>\n",
       "      <td>2011.0</td>\n",
       "      <td>NaN</td>\n",
       "      <td>NaN</td>\n",
       "      <td>NaN</td>\n",
       "      <td>NaN</td>\n",
       "      <td>NaN</td>\n",
       "      <td>NaN</td>\n",
       "      <td>NaN</td>\n",
       "      <td>NaN</td>\n",
       "      <td>...</td>\n",
       "      <td>NaN</td>\n",
       "      <td>NaN</td>\n",
       "      <td>NaN</td>\n",
       "      <td>NaN</td>\n",
       "      <td>NaN</td>\n",
       "      <td>NaN</td>\n",
       "      <td>NaN</td>\n",
       "      <td>NaN</td>\n",
       "      <td>NaN</td>\n",
       "      <td>NaN</td>\n",
       "    </tr>\n",
       "    <tr>\n",
       "      <th>6773</th>\n",
       "      <td>IORB0204</td>\n",
       "      <td>2011.0</td>\n",
       "      <td>NaN</td>\n",
       "      <td>NaN</td>\n",
       "      <td>NaN</td>\n",
       "      <td>NaN</td>\n",
       "      <td>NaN</td>\n",
       "      <td>NaN</td>\n",
       "      <td>NaN</td>\n",
       "      <td>NaN</td>\n",
       "      <td>...</td>\n",
       "      <td>NaN</td>\n",
       "      <td>NaN</td>\n",
       "      <td>NaN</td>\n",
       "      <td>NaN</td>\n",
       "      <td>NaN</td>\n",
       "      <td>NaN</td>\n",
       "      <td>NaN</td>\n",
       "      <td>NaN</td>\n",
       "      <td>NaN</td>\n",
       "      <td>NaN</td>\n",
       "    </tr>\n",
       "    <tr>\n",
       "      <th>6774</th>\n",
       "      <td>IORB0205</td>\n",
       "      <td>2011.0</td>\n",
       "      <td>NaN</td>\n",
       "      <td>NaN</td>\n",
       "      <td>NaN</td>\n",
       "      <td>NaN</td>\n",
       "      <td>NaN</td>\n",
       "      <td>NaN</td>\n",
       "      <td>NaN</td>\n",
       "      <td>NaN</td>\n",
       "      <td>...</td>\n",
       "      <td>NaN</td>\n",
       "      <td>NaN</td>\n",
       "      <td>NaN</td>\n",
       "      <td>NaN</td>\n",
       "      <td>NaN</td>\n",
       "      <td>NaN</td>\n",
       "      <td>NaN</td>\n",
       "      <td>NaN</td>\n",
       "      <td>NaN</td>\n",
       "      <td>NaN</td>\n",
       "    </tr>\n",
       "    <tr>\n",
       "      <th>6775</th>\n",
       "      <td>IBHA0080</td>\n",
       "      <td>2011.0</td>\n",
       "      <td>NaN</td>\n",
       "      <td>NaN</td>\n",
       "      <td>NaN</td>\n",
       "      <td>NaN</td>\n",
       "      <td>NaN</td>\n",
       "      <td>NaN</td>\n",
       "      <td>NaN</td>\n",
       "      <td>NaN</td>\n",
       "      <td>...</td>\n",
       "      <td>NaN</td>\n",
       "      <td>NaN</td>\n",
       "      <td>NaN</td>\n",
       "      <td>NaN</td>\n",
       "      <td>NaN</td>\n",
       "      <td>NaN</td>\n",
       "      <td>NaN</td>\n",
       "      <td>NaN</td>\n",
       "      <td>NaN</td>\n",
       "      <td>NaN</td>\n",
       "    </tr>\n",
       "    <tr>\n",
       "      <th>6776</th>\n",
       "      <td>IORA0007</td>\n",
       "      <td>2011.0</td>\n",
       "      <td>NaN</td>\n",
       "      <td>NaN</td>\n",
       "      <td>NaN</td>\n",
       "      <td>NaN</td>\n",
       "      <td>NaN</td>\n",
       "      <td>NaN</td>\n",
       "      <td>NaN</td>\n",
       "      <td>NaN</td>\n",
       "      <td>...</td>\n",
       "      <td>NaN</td>\n",
       "      <td>NaN</td>\n",
       "      <td>NaN</td>\n",
       "      <td>NaN</td>\n",
       "      <td>NaN</td>\n",
       "      <td>NaN</td>\n",
       "      <td>NaN</td>\n",
       "      <td>NaN</td>\n",
       "      <td>NaN</td>\n",
       "      <td>NaN</td>\n",
       "    </tr>\n",
       "  </tbody>\n",
       "</table>\n",
       "<p>6777 rows × 7450 columns</p>\n",
       "</div>"
      ],
      "text/plain": [
       "     hh_id_panel  sur_yr  facility_Area Of Courtyard  facility_Bathroom   \n",
       "0       IAPA0008  2010.0                      1080.0                1.0  \\\n",
       "1       IAPA0008  2011.0                      1080.0                1.0   \n",
       "2       IAPA0008  2012.0                      1080.0                1.0   \n",
       "3       IAPA0008  2013.0                      1080.0                1.0   \n",
       "4       IAPA0009  2010.0                       480.0                1.0   \n",
       "...          ...     ...                         ...                ...   \n",
       "6772    IORB0203  2011.0                         NaN                NaN   \n",
       "6773    IORB0204  2011.0                         NaN                NaN   \n",
       "6774    IORB0205  2011.0                         NaN                NaN   \n",
       "6775    IBHA0080  2011.0                         NaN                NaN   \n",
       "6776    IORA0007  2011.0                         NaN                NaN   \n",
       "\n",
       "      facility_Cable TV  facility_Cooking Gas  facility_Drinking Water Well   \n",
       "0                   1.0                   0.0                           0.0  \\\n",
       "1                   1.0                   0.0                           0.0   \n",
       "2                   1.0                   0.0                           0.0   \n",
       "3                   1.0                   0.0                           0.0   \n",
       "4                   0.0                   0.0                           0.0   \n",
       "...                 ...                   ...                           ...   \n",
       "6772                NaN                   NaN                           NaN   \n",
       "6773                NaN                   NaN                           NaN   \n",
       "6774                NaN                   NaN                           NaN   \n",
       "6775                NaN                   NaN                           NaN   \n",
       "6776                NaN                   NaN                           NaN   \n",
       "\n",
       "      facility_Electrified  facility_Internet Connection   \n",
       "0                      1.0                           0.0  \\\n",
       "1                      1.0                           0.0   \n",
       "2                      1.0                           0.0   \n",
       "3                      1.0                           0.0   \n",
       "4                      0.0                           0.0   \n",
       "...                    ...                           ...   \n",
       "6772                   NaN                           NaN   \n",
       "6773                   NaN                           NaN   \n",
       "6774                   NaN                           NaN   \n",
       "6775                   NaN                           NaN   \n",
       "6776                   NaN                           NaN   \n",
       "\n",
       "      facility_Residential House  ...  unit_price_stock_pulses   \n",
       "0                            1.0  ...                    209.0  \\\n",
       "1                            1.0  ...                     60.0   \n",
       "2                            1.0  ...                     65.0   \n",
       "3                            1.0  ...                     65.0   \n",
       "4                            1.0  ...                     75.0   \n",
       "...                          ...  ...                      ...   \n",
       "6772                         NaN  ...                      NaN   \n",
       "6773                         NaN  ...                      NaN   \n",
       "6774                         NaN  ...                      NaN   \n",
       "6775                         NaN  ...                      NaN   \n",
       "6776                         NaN  ...                      NaN   \n",
       "\n",
       "      total_value_stock_cereals  total_value_stock_cooking fuel   \n",
       "0                        3088.0                           520.0  \\\n",
       "1                        1280.0                           826.0   \n",
       "2                        1560.0                           630.0   \n",
       "3                        3235.0                          1150.0   \n",
       "4                         420.0                           270.0   \n",
       "...                         ...                             ...   \n",
       "6772                        NaN                             NaN   \n",
       "6773                        NaN                             NaN   \n",
       "6774                        NaN                             NaN   \n",
       "6775                        NaN                             NaN   \n",
       "6776                        NaN                             NaN   \n",
       "\n",
       "      total_value_stock_fodders  total_value_stock_oil seeds   \n",
       "0                           NaN                          NaN  \\\n",
       "1                           NaN                          NaN   \n",
       "2                           NaN                          NaN   \n",
       "3                           NaN                          NaN   \n",
       "4                           NaN                          NaN   \n",
       "...                         ...                          ...   \n",
       "6772                        NaN                          NaN   \n",
       "6773                        NaN                          NaN   \n",
       "6774                        NaN                          NaN   \n",
       "6775                        NaN                          NaN   \n",
       "6776                        NaN                          NaN   \n",
       "\n",
       "      total_value_stock_other items  total_value_stock_pulses  total_prodn   \n",
       "0                             230.0                     142.0          NaN  \\\n",
       "1                             430.0                      30.0          NaN   \n",
       "2                            1120.0                     130.0          NaN   \n",
       "3                               NaN                     195.0     93002.47   \n",
       "4                             120.0                      37.5          NaN   \n",
       "...                             ...                       ...          ...   \n",
       "6772                            NaN                       NaN          NaN   \n",
       "6773                            NaN                       NaN          NaN   \n",
       "6774                            NaN                       NaN          NaN   \n",
       "6775                            NaN                       NaN          NaN   \n",
       "6776                            NaN                       NaN          NaN   \n",
       "\n",
       "      diff  success  \n",
       "0      NaN      NaN  \n",
       "1      NaN      NaN  \n",
       "2      NaN      NaN  \n",
       "3      NaN      NaN  \n",
       "4      NaN      NaN  \n",
       "...    ...      ...  \n",
       "6772   NaN      NaN  \n",
       "6773   NaN      NaN  \n",
       "6774   NaN      NaN  \n",
       "6775   NaN      NaN  \n",
       "6776   NaN      NaN  \n",
       "\n",
       "[6777 rows x 7450 columns]"
      ]
     },
     "execution_count": 4,
     "metadata": {},
     "output_type": "execute_result"
    }
   ],
   "source": [
    "\n",
    "df=pd.read_csv(processed_file, low_memory=False)\n",
    "df"
   ]
  },
  {
   "cell_type": "markdown",
   "metadata": {},
   "source": [
    "## Summary Statistics"
   ]
  },
  {
   "cell_type": "code",
   "execution_count": 17,
   "metadata": {},
   "outputs": [
    {
     "data": {
      "text/plain": [
       "1527"
      ]
     },
     "execution_count": 17,
     "metadata": {},
     "output_type": "execute_result"
    }
   ],
   "source": [
    "df['hh_id_panel'].nunique()"
   ]
  },
  {
   "cell_type": "markdown",
   "metadata": {},
   "source": [
    "Total Number of households across years: 1527"
   ]
  },
  {
   "cell_type": "markdown",
   "metadata": {},
   "source": [
    "Total Number of households per years:"
   ]
  },
  {
   "cell_type": "code",
   "execution_count": 18,
   "metadata": {},
   "outputs": [
    {
     "data": {
      "text/plain": [
       "sur_yr\n",
       "2010.0    1346\n",
       "2011.0    1352\n",
       "2012.0    1349\n",
       "2013.0    1359\n",
       "2014.0    1371\n",
       "Name: hh_id_panel, dtype: int64"
      ]
     },
     "execution_count": 18,
     "metadata": {},
     "output_type": "execute_result"
    }
   ],
   "source": [
    "df.groupby('sur_yr')['hh_id_panel'].nunique()"
   ]
  },
  {
   "cell_type": "markdown",
   "metadata": {},
   "source": [
    "## Initiating T-SNE"
   ]
  },
  {
   "cell_type": "markdown",
   "metadata": {},
   "source": [
    "### Preprocessing Data - Missing Value Imputation\n",
    "The prototyoe 2 final csv file was preprocessed to encode all the categorical variables. The only remianing preprocessing exercise is missing value imputation.\n"
   ]
  },
  {
   "cell_type": "code",
   "execution_count": 5,
   "metadata": {},
   "outputs": [],
   "source": [
    "# isloating the feature names\n",
    "cols_missing = [\n",
    "    col for col in df.columns if col not in [\"hh_id_panel\", \"sur_yr\", \"total_prodn\", \"diff\", \"success\"]\n",
    "]\n"
   ]
  },
  {
   "cell_type": "code",
   "execution_count": 6,
   "metadata": {},
   "outputs": [
    {
     "data": {
      "text/html": [
       "<div>\n",
       "<style scoped>\n",
       "    .dataframe tbody tr th:only-of-type {\n",
       "        vertical-align: middle;\n",
       "    }\n",
       "\n",
       "    .dataframe tbody tr th {\n",
       "        vertical-align: top;\n",
       "    }\n",
       "\n",
       "    .dataframe thead th {\n",
       "        text-align: right;\n",
       "    }\n",
       "</style>\n",
       "<table border=\"1\" class=\"dataframe\">\n",
       "  <thead>\n",
       "    <tr style=\"text-align: right;\">\n",
       "      <th></th>\n",
       "      <th>hh_id_panel</th>\n",
       "      <th>sur_yr</th>\n",
       "      <th>total_prodn</th>\n",
       "      <th>diff</th>\n",
       "      <th>success</th>\n",
       "    </tr>\n",
       "  </thead>\n",
       "  <tbody>\n",
       "    <tr>\n",
       "      <th>0</th>\n",
       "      <td>IAPA0008</td>\n",
       "      <td>2010.0</td>\n",
       "      <td>NaN</td>\n",
       "      <td>NaN</td>\n",
       "      <td>NaN</td>\n",
       "    </tr>\n",
       "    <tr>\n",
       "      <th>1</th>\n",
       "      <td>IAPA0008</td>\n",
       "      <td>2011.0</td>\n",
       "      <td>NaN</td>\n",
       "      <td>NaN</td>\n",
       "      <td>NaN</td>\n",
       "    </tr>\n",
       "    <tr>\n",
       "      <th>2</th>\n",
       "      <td>IAPA0008</td>\n",
       "      <td>2012.0</td>\n",
       "      <td>NaN</td>\n",
       "      <td>NaN</td>\n",
       "      <td>NaN</td>\n",
       "    </tr>\n",
       "    <tr>\n",
       "      <th>3</th>\n",
       "      <td>IAPA0008</td>\n",
       "      <td>2013.0</td>\n",
       "      <td>93002.47</td>\n",
       "      <td>NaN</td>\n",
       "      <td>NaN</td>\n",
       "    </tr>\n",
       "    <tr>\n",
       "      <th>4</th>\n",
       "      <td>IAPA0009</td>\n",
       "      <td>2010.0</td>\n",
       "      <td>NaN</td>\n",
       "      <td>NaN</td>\n",
       "      <td>NaN</td>\n",
       "    </tr>\n",
       "    <tr>\n",
       "      <th>...</th>\n",
       "      <td>...</td>\n",
       "      <td>...</td>\n",
       "      <td>...</td>\n",
       "      <td>...</td>\n",
       "      <td>...</td>\n",
       "    </tr>\n",
       "    <tr>\n",
       "      <th>6772</th>\n",
       "      <td>IORB0203</td>\n",
       "      <td>2011.0</td>\n",
       "      <td>NaN</td>\n",
       "      <td>NaN</td>\n",
       "      <td>NaN</td>\n",
       "    </tr>\n",
       "    <tr>\n",
       "      <th>6773</th>\n",
       "      <td>IORB0204</td>\n",
       "      <td>2011.0</td>\n",
       "      <td>NaN</td>\n",
       "      <td>NaN</td>\n",
       "      <td>NaN</td>\n",
       "    </tr>\n",
       "    <tr>\n",
       "      <th>6774</th>\n",
       "      <td>IORB0205</td>\n",
       "      <td>2011.0</td>\n",
       "      <td>NaN</td>\n",
       "      <td>NaN</td>\n",
       "      <td>NaN</td>\n",
       "    </tr>\n",
       "    <tr>\n",
       "      <th>6775</th>\n",
       "      <td>IBHA0080</td>\n",
       "      <td>2011.0</td>\n",
       "      <td>NaN</td>\n",
       "      <td>NaN</td>\n",
       "      <td>NaN</td>\n",
       "    </tr>\n",
       "    <tr>\n",
       "      <th>6776</th>\n",
       "      <td>IORA0007</td>\n",
       "      <td>2011.0</td>\n",
       "      <td>NaN</td>\n",
       "      <td>NaN</td>\n",
       "      <td>NaN</td>\n",
       "    </tr>\n",
       "  </tbody>\n",
       "</table>\n",
       "<p>6777 rows × 5 columns</p>\n",
       "</div>"
      ],
      "text/plain": [
       "     hh_id_panel  sur_yr  total_prodn  diff  success\n",
       "0       IAPA0008  2010.0          NaN   NaN      NaN\n",
       "1       IAPA0008  2011.0          NaN   NaN      NaN\n",
       "2       IAPA0008  2012.0          NaN   NaN      NaN\n",
       "3       IAPA0008  2013.0     93002.47   NaN      NaN\n",
       "4       IAPA0009  2010.0          NaN   NaN      NaN\n",
       "...          ...     ...          ...   ...      ...\n",
       "6772    IORB0203  2011.0          NaN   NaN      NaN\n",
       "6773    IORB0204  2011.0          NaN   NaN      NaN\n",
       "6774    IORB0205  2011.0          NaN   NaN      NaN\n",
       "6775    IBHA0080  2011.0          NaN   NaN      NaN\n",
       "6776    IORA0007  2011.0          NaN   NaN      NaN\n",
       "\n",
       "[6777 rows x 5 columns]"
      ]
     },
     "execution_count": 6,
     "metadata": {},
     "output_type": "execute_result"
    }
   ],
   "source": [
    "left_hand_file=df[[\"hh_id_panel\", \"sur_yr\", \"total_prodn\", \"diff\", \"success\"]]\n",
    "left_hand_file"
   ]
  },
  {
   "cell_type": "code",
   "execution_count": 7,
   "metadata": {},
   "outputs": [],
   "source": [
    "\n",
    "imputer=IterativeImputer(random_state=100, max_iter=50)\n",
    "righ_hand_file=pd.DataFrame(imputer.fit_transform(df[cols_missing]).toarray())\n",
    "righ_hand_file"
   ]
  },
  {
   "cell_type": "markdown",
   "metadata": {},
   "source": [
    "### T-SNE"
   ]
  },
  {
   "cell_type": "code",
   "execution_count": 22,
   "metadata": {},
   "outputs": [
    {
     "data": {
      "text/html": [
       "<div>\n",
       "<style scoped>\n",
       "    .dataframe tbody tr th:only-of-type {\n",
       "        vertical-align: middle;\n",
       "    }\n",
       "\n",
       "    .dataframe tbody tr th {\n",
       "        vertical-align: top;\n",
       "    }\n",
       "\n",
       "    .dataframe thead th {\n",
       "        text-align: right;\n",
       "    }\n",
       "</style>\n",
       "<table border=\"1\" class=\"dataframe\">\n",
       "  <thead>\n",
       "    <tr style=\"text-align: right;\">\n",
       "      <th></th>\n",
       "      <th>0</th>\n",
       "      <th>1</th>\n",
       "    </tr>\n",
       "  </thead>\n",
       "  <tbody>\n",
       "    <tr>\n",
       "      <th>0</th>\n",
       "      <td>-170.832108</td>\n",
       "      <td>-21.202190</td>\n",
       "    </tr>\n",
       "    <tr>\n",
       "      <th>1</th>\n",
       "      <td>-170.832108</td>\n",
       "      <td>-21.202190</td>\n",
       "    </tr>\n",
       "    <tr>\n",
       "      <th>2</th>\n",
       "      <td>-123.650719</td>\n",
       "      <td>17.852234</td>\n",
       "    </tr>\n",
       "    <tr>\n",
       "      <th>3</th>\n",
       "      <td>-123.650719</td>\n",
       "      <td>17.852234</td>\n",
       "    </tr>\n",
       "    <tr>\n",
       "      <th>4</th>\n",
       "      <td>-123.650719</td>\n",
       "      <td>17.852234</td>\n",
       "    </tr>\n",
       "    <tr>\n",
       "      <th>...</th>\n",
       "      <td>...</td>\n",
       "      <td>...</td>\n",
       "    </tr>\n",
       "    <tr>\n",
       "      <th>612</th>\n",
       "      <td>204.654175</td>\n",
       "      <td>82.103882</td>\n",
       "    </tr>\n",
       "    <tr>\n",
       "      <th>613</th>\n",
       "      <td>204.654175</td>\n",
       "      <td>82.103882</td>\n",
       "    </tr>\n",
       "    <tr>\n",
       "      <th>614</th>\n",
       "      <td>204.654175</td>\n",
       "      <td>82.103882</td>\n",
       "    </tr>\n",
       "    <tr>\n",
       "      <th>615</th>\n",
       "      <td>231.300919</td>\n",
       "      <td>116.216537</td>\n",
       "    </tr>\n",
       "    <tr>\n",
       "      <th>616</th>\n",
       "      <td>231.300919</td>\n",
       "      <td>116.216537</td>\n",
       "    </tr>\n",
       "  </tbody>\n",
       "</table>\n",
       "<p>617 rows × 2 columns</p>\n",
       "</div>"
      ],
      "text/plain": [
       "              0           1\n",
       "0   -170.832108  -21.202190\n",
       "1   -170.832108  -21.202190\n",
       "2   -123.650719   17.852234\n",
       "3   -123.650719   17.852234\n",
       "4   -123.650719   17.852234\n",
       "..          ...         ...\n",
       "612  204.654175   82.103882\n",
       "613  204.654175   82.103882\n",
       "614  204.654175   82.103882\n",
       "615  231.300919  116.216537\n",
       "616  231.300919  116.216537\n",
       "\n",
       "[617 rows x 2 columns]"
      ]
     },
     "execution_count": 22,
     "metadata": {},
     "output_type": "execute_result"
    }
   ],
   "source": [
    "tsne=TSNE(n_components=2, perplexity=100)\n",
    "df_tsne=pd.DataFrame(tsne.fit_transform(data_file))\n",
    "df_tsne"
   ]
  },
  {
   "cell_type": "code",
   "execution_count": 23,
   "metadata": {},
   "outputs": [
    {
     "data": {
      "text/html": [
       "<div>\n",
       "<style scoped>\n",
       "    .dataframe tbody tr th:only-of-type {\n",
       "        vertical-align: middle;\n",
       "    }\n",
       "\n",
       "    .dataframe tbody tr th {\n",
       "        vertical-align: top;\n",
       "    }\n",
       "\n",
       "    .dataframe thead th {\n",
       "        text-align: right;\n",
       "    }\n",
       "</style>\n",
       "<table border=\"1\" class=\"dataframe\">\n",
       "  <thead>\n",
       "    <tr style=\"text-align: right;\">\n",
       "      <th></th>\n",
       "      <th>hh_id_panel</th>\n",
       "      <th>sur_yr</th>\n",
       "      <th>success</th>\n",
       "      <th>0</th>\n",
       "      <th>1</th>\n",
       "    </tr>\n",
       "  </thead>\n",
       "  <tbody>\n",
       "    <tr>\n",
       "      <th>0</th>\n",
       "      <td>IBHA0045</td>\n",
       "      <td>2010</td>\n",
       "      <td>1.0</td>\n",
       "      <td>-170.832108</td>\n",
       "      <td>-21.202190</td>\n",
       "    </tr>\n",
       "    <tr>\n",
       "      <th>1</th>\n",
       "      <td>IBHA0049</td>\n",
       "      <td>2010</td>\n",
       "      <td>0.0</td>\n",
       "      <td>-170.832108</td>\n",
       "      <td>-21.202190</td>\n",
       "    </tr>\n",
       "    <tr>\n",
       "      <th>2</th>\n",
       "      <td>IBHB0038</td>\n",
       "      <td>2010</td>\n",
       "      <td>1.0</td>\n",
       "      <td>-123.650719</td>\n",
       "      <td>17.852234</td>\n",
       "    </tr>\n",
       "    <tr>\n",
       "      <th>3</th>\n",
       "      <td>IBHB0043</td>\n",
       "      <td>2010</td>\n",
       "      <td>1.0</td>\n",
       "      <td>-123.650719</td>\n",
       "      <td>17.852234</td>\n",
       "    </tr>\n",
       "    <tr>\n",
       "      <th>4</th>\n",
       "      <td>IBHB0050</td>\n",
       "      <td>2010</td>\n",
       "      <td>1.0</td>\n",
       "      <td>-123.650719</td>\n",
       "      <td>17.852234</td>\n",
       "    </tr>\n",
       "    <tr>\n",
       "      <th>...</th>\n",
       "      <td>...</td>\n",
       "      <td>...</td>\n",
       "      <td>...</td>\n",
       "      <td>...</td>\n",
       "      <td>...</td>\n",
       "    </tr>\n",
       "    <tr>\n",
       "      <th>612</th>\n",
       "      <td>IMPA0039</td>\n",
       "      <td>2014</td>\n",
       "      <td>1.0</td>\n",
       "      <td>204.654175</td>\n",
       "      <td>82.103882</td>\n",
       "    </tr>\n",
       "    <tr>\n",
       "      <th>613</th>\n",
       "      <td>IMPA0040</td>\n",
       "      <td>2014</td>\n",
       "      <td>1.0</td>\n",
       "      <td>204.654175</td>\n",
       "      <td>82.103882</td>\n",
       "    </tr>\n",
       "    <tr>\n",
       "      <th>614</th>\n",
       "      <td>IMPA0054</td>\n",
       "      <td>2014</td>\n",
       "      <td>0.0</td>\n",
       "      <td>204.654175</td>\n",
       "      <td>82.103882</td>\n",
       "    </tr>\n",
       "    <tr>\n",
       "      <th>615</th>\n",
       "      <td>IMPB0032</td>\n",
       "      <td>2014</td>\n",
       "      <td>1.0</td>\n",
       "      <td>231.300919</td>\n",
       "      <td>116.216537</td>\n",
       "    </tr>\n",
       "    <tr>\n",
       "      <th>616</th>\n",
       "      <td>IMPB0033</td>\n",
       "      <td>2014</td>\n",
       "      <td>0.0</td>\n",
       "      <td>231.300919</td>\n",
       "      <td>116.216537</td>\n",
       "    </tr>\n",
       "  </tbody>\n",
       "</table>\n",
       "<p>617 rows × 5 columns</p>\n",
       "</div>"
      ],
      "text/plain": [
       "    hh_id_panel  sur_yr  success           0           1\n",
       "0      IBHA0045    2010      1.0 -170.832108  -21.202190\n",
       "1      IBHA0049    2010      0.0 -170.832108  -21.202190\n",
       "2      IBHB0038    2010      1.0 -123.650719   17.852234\n",
       "3      IBHB0043    2010      1.0 -123.650719   17.852234\n",
       "4      IBHB0050    2010      1.0 -123.650719   17.852234\n",
       "..          ...     ...      ...         ...         ...\n",
       "612    IMPA0039    2014      1.0  204.654175   82.103882\n",
       "613    IMPA0040    2014      1.0  204.654175   82.103882\n",
       "614    IMPA0054    2014      0.0  204.654175   82.103882\n",
       "615    IMPB0032    2014      1.0  231.300919  116.216537\n",
       "616    IMPB0033    2014      0.0  231.300919  116.216537\n",
       "\n",
       "[617 rows x 5 columns]"
      ]
     },
     "execution_count": 23,
     "metadata": {},
     "output_type": "execute_result"
    }
   ],
   "source": [
    "out_df=pd.concat([meta_file, df_tsne], axis=1)\n",
    "out_df"
   ]
  },
  {
   "cell_type": "markdown",
   "metadata": {},
   "source": [
    "### Graphing T-SNE"
   ]
  },
  {
   "cell_type": "code",
   "execution_count": 27,
   "metadata": {},
   "outputs": [
    {
     "data": {
      "application/vnd.plotly.v1+json": {
       "config": {
        "plotlyServerURL": "https://plot.ly"
       },
       "data": [
        {
         "hovertemplate": "color=1.0<br>x=%{x}<br>y=%{y}<extra></extra>",
         "legendgroup": "1.0",
         "marker": {
          "color": "#636efa",
          "symbol": "circle"
         },
         "mode": "markers",
         "name": "1.0",
         "orientation": "v",
         "showlegend": true,
         "type": "scatter",
         "x": [
          -170.8321075439453,
          -123.65071868896484,
          -123.65071868896484,
          -123.65071868896484,
          -123.65071868896484,
          -96.42152404785156,
          -123.65071868896484,
          -242.18553161621094,
          -220.59298706054688,
          -220.59298706054688,
          -67.90949249267578,
          -33.61560821533203,
          -33.61560821533203,
          -33.61560821533203,
          75.90242767333984,
          75.90242767333984,
          36.61383056640625,
          107.48646545410156,
          75.90242767333984,
          75.90242767333984,
          127.23578643798828,
          75.90242767333984,
          75.90242767333984,
          70.02306365966797,
          108.20379638671875,
          108.20379638671875,
          45.101470947265625,
          75.90242767333984,
          150.07301330566406,
          7.932697772979736,
          7.932697772979736,
          -18.706275939941406,
          -18.706275939941406,
          12.676950454711914,
          -18.706275939941406,
          -18.706275939941406,
          -18.706275939941406,
          -18.706275939941406,
          24.29491424560547,
          26.45537567138672,
          92.89994812011719,
          75.42448425292969,
          75.42448425292969,
          -170.8321075439453,
          -157.19874572753906,
          -170.8321075439453,
          -123.65071868896484,
          -123.65071868896484,
          -123.65071868896484,
          -123.65071868896484,
          -128.45375061035156,
          -161.67628479003906,
          -271.14825439453125,
          -220.59298706054688,
          -220.59298706054688,
          -33.61560821533203,
          -33.61560821533203,
          -33.61560821533203,
          -46.05463790893555,
          -33.61560821533203,
          75.90242767333984,
          75.90242767333984,
          75.90242767333984,
          75.90242767333984,
          127.23578643798828,
          89.2995376586914,
          75.90242767333984,
          75.90242767333984,
          75.90242767333984,
          75.90242767333984,
          75.90242767333984,
          75.90242767333984,
          107.48646545410156,
          75.90242767333984,
          75.90242767333984,
          150.07301330566406,
          7.932697772979736,
          7.932697772979736,
          -17.07339859008789,
          -17.07339859008789,
          -18.706275939941406,
          -17.07339859008789,
          -18.706275939941406,
          9.858565330505371,
          50.69017028808594,
          81.67713928222656,
          92.89994812011719,
          107.8201904296875,
          75.42448425292969,
          75.42448425292969,
          107.8201904296875,
          65.46015167236328,
          -190.02459716796875,
          -123.65071868896484,
          -123.65071868896484,
          -128.45375061035156,
          -123.65071868896484,
          -123.65071868896484,
          -128.45375061035156,
          -220.59298706054688,
          -220.59298706054688,
          -33.61560821533203,
          -46.05463790893555,
          -67.90949249267578,
          -21.64589500427246,
          75.90242767333984,
          127.23578643798828,
          75.90242767333984,
          75.90242767333984,
          127.23578643798828,
          108.20379638671875,
          75.90242767333984,
          75.90242767333984,
          127.23578643798828,
          75.90242767333984,
          75.90242767333984,
          127.23578643798828,
          108.20379638671875,
          108.20379638671875,
          70.02306365966797,
          150.07301330566406,
          130.78514099121094,
          150.07301330566406,
          7.932697772979736,
          30.675140380859375,
          -17.07339859008789,
          -18.706275939941406,
          -18.706275939941406,
          -56.805938720703125,
          -18.706275939941406,
          -18.706275939941406,
          -56.805938720703125,
          26.45537567138672,
          26.45537567138672,
          9.858565330505371,
          92.89994812011719,
          75.42448425292969,
          75.42448425292969,
          -161.67628479003906,
          -123.65071868896484,
          -123.65071868896484,
          -128.45375061035156,
          -123.65071868896484,
          -123.65071868896484,
          -128.45375061035156,
          -125.0560531616211,
          -271.14825439453125,
          -271.14825439453125,
          -220.59298706054688,
          -250.23435974121094,
          -33.61560821533203,
          -33.61560821533203,
          -46.05463790893555,
          -33.61560821533203,
          127.23578643798828,
          108.20379638671875,
          108.20379638671875,
          75.90242767333984,
          75.90242767333984,
          36.61383056640625,
          75.90242767333984,
          75.90242767333984,
          36.61383056640625,
          108.20379638671875,
          75.90242767333984,
          75.90242767333984,
          36.61383056640625,
          150.07301330566406,
          7.932697772979736,
          12.088767051696777,
          -17.07339859008789,
          -17.07339859008789,
          -46.6810302734375,
          -18.706275939941406,
          -18.706275939941406,
          38.28517532348633,
          9.858565330505371,
          9.858565330505371,
          38.28517532348633,
          75.42448425292969,
          75.42448425292969,
          75.42448425292969,
          -170.8321075439453,
          -128.45375061035156,
          -161.67628479003906,
          -161.67628479003906,
          -123.65071868896484,
          -123.65071868896484,
          -149.2120361328125,
          -123.65071868896484,
          -236.97483825683594,
          -242.18553161621094,
          -234.54818725585938,
          -33.61560821533203,
          -67.90949249267578,
          -49.00743865966797,
          -49.00743865966797,
          75.90242767333984,
          75.90242767333984,
          75.90242767333984,
          75.90242767333984,
          75.90242767333984,
          36.61383056640625,
          108.20379638671875,
          75.90242767333984,
          75.90242767333984,
          36.61383056640625,
          75.90242767333984,
          75.90242767333984,
          75.90242767333984,
          108.20379638671875,
          160.96710205078125,
          7.932697772979736,
          46.14276123046875,
          46.14276123046875,
          26.763988494873047,
          -48.96224594116211,
          -33.40279006958008,
          -48.96224594116211,
          -48.96224594116211,
          -48.96224594116211,
          -15.792526245117188,
          95.27674102783203,
          95.27674102783203,
          95.27674102783203,
          38.68173599243164,
          37.044677734375,
          37.044677734375,
          37.044677734375,
          37.044677734375,
          37.044677734375,
          21.771135330200195,
          21.771135330200195,
          21.771135330200195,
          21.771135330200195,
          21.771135330200195,
          21.771135330200195,
          21.771135330200195,
          131.17140197753906,
          131.17140197753906,
          165.70394897460938,
          131.17140197753906,
          131.17140197753906,
          232.65602111816406,
          263.53839111328125,
          232.65602111816406,
          232.65602111816406,
          232.65602111816406,
          232.65602111816406,
          232.65602111816406,
          232.65602111816406,
          232.65602111816406,
          199.00584411621094,
          232.65602111816406,
          157.5812225341797,
          -167.3039093017578,
          -167.3039093017578,
          -167.3039093017578,
          -136.92845153808594,
          -136.84942626953125,
          -136.84942626953125,
          -223.34701538085938,
          -223.34701538085938,
          -193.27943420410156,
          -193.27943420410156,
          -132.5671844482422,
          -132.5671844482422,
          -132.5671844482422,
          -143.48048400878906,
          -33.21326446533203,
          -33.21326446533203,
          -33.21326446533203,
          -33.21326446533203,
          -33.21326446533203,
          -45.98529052734375,
          204.6541748046875,
          245.54644775390625,
          231.30091857910156,
          37.044677734375,
          37.044677734375,
          37.044677734375,
          37.044677734375,
          37.044677734375,
          37.044677734375,
          21.771135330200195,
          21.771135330200195,
          21.771135330200195,
          21.771135330200195,
          21.771135330200195,
          76.2606430053711,
          131.17140197753906,
          131.17140197753906,
          131.17140197753906,
          149.5888214111328,
          149.5888214111328,
          199.00584411621094,
          199.00584411621094,
          232.65602111816406,
          232.65602111816406,
          268.6214904785156,
          232.65602111816406,
          232.65602111816406,
          232.65602111816406,
          199.00584411621094,
          232.65602111816406,
          232.65602111816406,
          156.45372009277344,
          -167.3039093017578,
          -136.92845153808594,
          -111.90555572509766,
          -111.90555572509766,
          -223.34701538085938,
          -223.34701538085938,
          -223.34701538085938,
          -223.34701538085938,
          -193.27943420410156,
          -132.5671844482422,
          -132.5671844482422,
          -132.5671844482422,
          -132.5671844482422,
          -110.8628158569336,
          -183.87315368652344,
          -183.87315368652344,
          -33.21326446533203,
          -33.21326446533203,
          -33.21326446533203,
          -33.21326446533203,
          -68.50362396240234,
          -33.21326446533203,
          -33.21326446533203,
          204.6541748046875,
          192.76864624023438,
          258.0390319824219,
          37.044677734375,
          37.044677734375,
          37.044677734375,
          37.044677734375,
          37.044677734375,
          -52.43434143066406,
          -30.919776916503906,
          -30.919776916503906,
          -30.919776916503906,
          -30.919776916503906,
          -30.919776916503906,
          -23.03736686706543,
          115.50833129882812,
          131.17140197753906,
          168.9314727783203,
          131.17140197753906,
          131.17140197753906,
          131.17140197753906,
          207.61207580566406,
          247.5729522705078,
          247.5729522705078,
          247.5729522705078,
          247.5729522705078,
          247.5729522705078,
          247.5729522705078,
          207.61207580566406,
          207.61207580566406,
          282.8150939941406,
          247.5729522705078,
          -190.42547607421875,
          -102.95441436767578,
          -102.95441436767578,
          -136.84942626953125,
          -111.90555572509766,
          -189.02798461914062,
          -220.5364227294922,
          -220.5364227294922,
          -110.8628158569336,
          -132.5671844482422,
          -132.5671844482422,
          -183.87315368652344,
          -183.87315368652344,
          -183.8063507080078,
          -33.21326446533203,
          -33.21326446533203,
          -33.21326446533203,
          -33.21326446533203,
          -45.98529052734375,
          -45.98529052734375,
          226.1354522705078,
          -34.14280319213867,
          -34.14280319213867,
          -34.14280319213867,
          -34.14280319213867,
          -59.57712173461914,
          -34.14280319213867,
          -34.14280319213867,
          -34.14280319213867,
          -30.919776916503906,
          -30.919776916503906,
          -30.919776916503906,
          -23.03736686706543,
          -23.03736686706543,
          -30.919776916503906,
          -30.919776916503906,
          -30.919776916503906,
          131.17140197753906,
          165.70394897460938,
          131.17140197753906,
          131.17140197753906,
          131.17140197753906,
          131.17140197753906,
          247.5729522705078,
          207.61207580566406,
          247.5729522705078,
          247.5729522705078,
          247.5729522705078,
          247.5729522705078,
          247.5729522705078,
          247.5729522705078,
          247.5729522705078,
          247.5729522705078,
          247.5729522705078,
          -167.3039093017578,
          -167.3039093017578,
          -167.3039093017578,
          -167.3039093017578,
          -102.95441436767578,
          -102.95441436767578,
          -102.95441436767578,
          -136.84942626953125,
          -136.84942626953125,
          -220.5364227294922,
          -220.5364227294922,
          -220.5364227294922,
          -132.5671844482422,
          -132.5671844482422,
          -132.5671844482422,
          -132.5671844482422,
          -183.87315368652344,
          -155.94345092773438,
          -155.94345092773438,
          -33.21326446533203,
          -33.21326446533203,
          -64.36563873291016,
          -64.36563873291016,
          -33.21326446533203,
          -33.21326446533203,
          204.6541748046875,
          204.6541748046875,
          231.30091857910156,
          131.17140197753906,
          131.17140197753906,
          131.17140197753906,
          131.17140197753906,
          131.17140197753906,
          247.5729522705078,
          247.5729522705078,
          247.5729522705078,
          247.5729522705078,
          247.5729522705078,
          247.5729522705078,
          247.5729522705078,
          247.5729522705078,
          247.5729522705078,
          -167.3039093017578,
          -167.3039093017578,
          -102.95441436767578,
          -102.95441436767578,
          -102.95441436767578,
          -136.84942626953125,
          -136.84942626953125,
          -220.5364227294922,
          -220.5364227294922,
          -220.5364227294922,
          -220.5364227294922,
          -132.5671844482422,
          -132.5671844482422,
          -183.87315368652344,
          -155.94345092773438,
          -155.94345092773438,
          -64.36563873291016,
          -64.36563873291016,
          -64.36563873291016,
          -64.36563873291016,
          -64.36563873291016,
          -64.36563873291016,
          204.6541748046875,
          204.6541748046875,
          231.30091857910156
         ],
         "xaxis": "x",
         "y": [
          -21.202190399169922,
          17.85223388671875,
          17.85223388671875,
          17.85223388671875,
          17.85223388671875,
          -7.423986434936523,
          17.85223388671875,
          17.985525131225586,
          53.575164794921875,
          53.575164794921875,
          86.5107650756836,
          94.1038818359375,
          94.1038818359375,
          94.1038818359375,
          121.44879913330078,
          121.44879913330078,
          151.83746337890625,
          83.17194366455078,
          121.44879913330078,
          121.44879913330078,
          119.71299743652344,
          121.44879913330078,
          121.44879913330078,
          174.0638885498047,
          161.70648193359375,
          161.70648193359375,
          187.19415283203125,
          121.44879913330078,
          202.8324432373047,
          53.233428955078125,
          53.233428955078125,
          -44.61915588378906,
          -44.61915588378906,
          -31.45572280883789,
          -44.61915588378906,
          -44.61915588378906,
          -44.61915588378906,
          -44.61915588378906,
          -117.9601058959961,
          -80.93574523925781,
          -69.57097625732422,
          -8.94802188873291,
          -8.94802188873291,
          -21.202190399169922,
          -44.04537582397461,
          -21.202190399169922,
          17.85223388671875,
          17.85223388671875,
          17.85223388671875,
          17.85223388671875,
          -20.596948623657227,
          19.409658432006836,
          24.03802490234375,
          53.575164794921875,
          53.575164794921875,
          94.1038818359375,
          94.1038818359375,
          94.1038818359375,
          61.63576126098633,
          94.1038818359375,
          121.44879913330078,
          121.44879913330078,
          121.44879913330078,
          121.44879913330078,
          119.71299743652344,
          197.1921844482422,
          121.44879913330078,
          121.44879913330078,
          121.44879913330078,
          121.44879913330078,
          121.44879913330078,
          121.44879913330078,
          83.17194366455078,
          121.44879913330078,
          121.44879913330078,
          202.8324432373047,
          53.233428955078125,
          53.233428955078125,
          -7.427723407745361,
          -7.427723407745361,
          -44.61915588378906,
          -7.427723407745361,
          -44.61915588378906,
          -99.34866333007812,
          -85.92466735839844,
          -51.72052001953125,
          -69.57097625732422,
          -6.58007287979126,
          -8.94802188873291,
          -8.94802188873291,
          -6.58007287979126,
          20.45964241027832,
          -2.9028146266937256,
          17.85223388671875,
          17.85223388671875,
          -20.596948623657227,
          17.85223388671875,
          17.85223388671875,
          -20.596948623657227,
          53.575164794921875,
          53.575164794921875,
          94.1038818359375,
          61.63576126098633,
          86.5107650756836,
          124.9444351196289,
          121.44879913330078,
          119.71299743652344,
          121.44879913330078,
          121.44879913330078,
          119.71299743652344,
          161.70648193359375,
          121.44879913330078,
          121.44879913330078,
          119.71299743652344,
          121.44879913330078,
          121.44879913330078,
          119.71299743652344,
          161.70648193359375,
          161.70648193359375,
          174.0638885498047,
          202.8324432373047,
          218.16830444335938,
          202.8324432373047,
          53.233428955078125,
          58.462467193603516,
          -7.427723407745361,
          -44.61915588378906,
          -44.61915588378906,
          -38.21306228637695,
          -44.61915588378906,
          -44.61915588378906,
          -38.21306228637695,
          -80.93574523925781,
          -80.93574523925781,
          -99.34866333007812,
          -69.57097625732422,
          -8.94802188873291,
          -8.94802188873291,
          19.409658432006836,
          17.85223388671875,
          17.85223388671875,
          -20.596948623657227,
          17.85223388671875,
          17.85223388671875,
          -20.596948623657227,
          55.06180953979492,
          24.03802490234375,
          24.03802490234375,
          53.575164794921875,
          66.2530288696289,
          94.1038818359375,
          94.1038818359375,
          61.63576126098633,
          94.1038818359375,
          119.71299743652344,
          161.70648193359375,
          161.70648193359375,
          121.44879913330078,
          121.44879913330078,
          151.83746337890625,
          121.44879913330078,
          121.44879913330078,
          151.83746337890625,
          161.70648193359375,
          121.44879913330078,
          121.44879913330078,
          151.83746337890625,
          202.8324432373047,
          53.233428955078125,
          -11.217495918273926,
          -7.427723407745361,
          -7.427723407745361,
          -15.418533325195312,
          -44.61915588378906,
          -44.61915588378906,
          -102.17366790771484,
          -99.34866333007812,
          -99.34866333007812,
          -102.17366790771484,
          -8.94802188873291,
          -8.94802188873291,
          -8.94802188873291,
          -21.202190399169922,
          -20.596948623657227,
          19.409658432006836,
          19.409658432006836,
          17.85223388671875,
          17.85223388671875,
          48.628501892089844,
          17.85223388671875,
          -7.873392581939697,
          17.985525131225586,
          82.37306213378906,
          94.1038818359375,
          86.5107650756836,
          124.32368469238281,
          124.32368469238281,
          121.44879913330078,
          121.44879913330078,
          121.44879913330078,
          121.44879913330078,
          121.44879913330078,
          151.83746337890625,
          161.70648193359375,
          121.44879913330078,
          121.44879913330078,
          151.83746337890625,
          121.44879913330078,
          121.44879913330078,
          121.44879913330078,
          161.70648193359375,
          166.48971557617188,
          53.233428955078125,
          -59.96200180053711,
          -59.96200180053711,
          -55.62892532348633,
          -66.13734436035156,
          -88.74173736572266,
          -66.13734436035156,
          -66.13734436035156,
          -66.13734436035156,
          -77.65990447998047,
          19.307985305786133,
          19.307985305786133,
          19.307985305786133,
          -41.6164436340332,
          -280.6258850097656,
          -280.6258850097656,
          -280.6258850097656,
          -280.6258850097656,
          -280.6258850097656,
          -203.9713592529297,
          -203.9713592529297,
          -203.9713592529297,
          -203.9713592529297,
          -203.9713592529297,
          -203.9713592529297,
          -203.9713592529297,
          -216.7137908935547,
          -216.7137908935547,
          -232.93382263183594,
          -216.7137908935547,
          -216.7137908935547,
          -93.47147369384766,
          -111.37618255615234,
          -93.47147369384766,
          -93.47147369384766,
          -93.47147369384766,
          -93.47147369384766,
          -93.47147369384766,
          -93.47147369384766,
          -93.47147369384766,
          -78.08145141601562,
          -93.47147369384766,
          -26.206796646118164,
          -199.68589782714844,
          -199.68589782714844,
          -199.68589782714844,
          -149.43353271484375,
          -101.17831420898438,
          -101.17831420898438,
          -108.92723083496094,
          -108.92723083496094,
          -117.62576293945312,
          -117.62576293945312,
          244.5290069580078,
          244.5290069580078,
          244.5290069580078,
          166.6660614013672,
          245.9467010498047,
          245.9467010498047,
          245.9467010498047,
          245.9467010498047,
          245.9467010498047,
          208.54299926757812,
          82.1038818359375,
          90.59619140625,
          116.21653747558594,
          -280.6258850097656,
          -280.6258850097656,
          -280.6258850097656,
          -280.6258850097656,
          -280.6258850097656,
          -280.6258850097656,
          -203.9713592529297,
          -203.9713592529297,
          -203.9713592529297,
          -203.9713592529297,
          -203.9713592529297,
          -158.3308563232422,
          -216.7137908935547,
          -216.7137908935547,
          -216.7137908935547,
          -182.8627166748047,
          -182.8627166748047,
          -78.08145141601562,
          -78.08145141601562,
          -93.47147369384766,
          -93.47147369384766,
          -85.59782409667969,
          -93.47147369384766,
          -93.47147369384766,
          -93.47147369384766,
          -78.08145141601562,
          -93.47147369384766,
          -93.47147369384766,
          -45.63127899169922,
          -199.68589782714844,
          -149.43353271484375,
          -93.73172760009766,
          -93.73172760009766,
          -108.92723083496094,
          -108.92723083496094,
          -108.92723083496094,
          -108.92723083496094,
          -117.62576293945312,
          244.5290069580078,
          244.5290069580078,
          244.5290069580078,
          244.5290069580078,
          209.2525634765625,
          165.66673278808594,
          165.66673278808594,
          245.9467010498047,
          245.9467010498047,
          245.9467010498047,
          245.9467010498047,
          235.33018493652344,
          245.9467010498047,
          245.9467010498047,
          82.1038818359375,
          55.442256927490234,
          110.81485748291016,
          -280.6258850097656,
          -280.6258850097656,
          -280.6258850097656,
          -280.6258850097656,
          -280.6258850097656,
          -256.425537109375,
          -205.79019165039062,
          -205.79019165039062,
          -205.79019165039062,
          -205.79019165039062,
          -205.79019165039062,
          -172.28811645507812,
          -159.88461303710938,
          -216.7137908935547,
          -203.3494415283203,
          -216.7137908935547,
          -216.7137908935547,
          -216.7137908935547,
          -29.719099044799805,
          -35.11763000488281,
          -35.11763000488281,
          -35.11763000488281,
          -35.11763000488281,
          -35.11763000488281,
          -35.11763000488281,
          -29.719099044799805,
          -29.719099044799805,
          -53.43592834472656,
          -35.11763000488281,
          -214.8097381591797,
          -145.6634521484375,
          -145.6634521484375,
          -101.17831420898438,
          -93.73172760009766,
          -152.76100158691406,
          -159.68951416015625,
          -159.68951416015625,
          209.2525634765625,
          244.5290069580078,
          244.5290069580078,
          165.66673278808594,
          165.66673278808594,
          126.7563705444336,
          245.9467010498047,
          245.9467010498047,
          245.9467010498047,
          245.9467010498047,
          208.54299926757812,
          208.54299926757812,
          62.05294418334961,
          -275.0208435058594,
          -275.0208435058594,
          -275.0208435058594,
          -275.0208435058594,
          -278.82763671875,
          -275.0208435058594,
          -275.0208435058594,
          -275.0208435058594,
          -205.79019165039062,
          -205.79019165039062,
          -205.79019165039062,
          -172.28811645507812,
          -172.28811645507812,
          -205.79019165039062,
          -205.79019165039062,
          -205.79019165039062,
          -216.7137908935547,
          -232.93382263183594,
          -216.7137908935547,
          -216.7137908935547,
          -216.7137908935547,
          -216.7137908935547,
          -35.11763000488281,
          -29.719099044799805,
          -35.11763000488281,
          -35.11763000488281,
          -35.11763000488281,
          -35.11763000488281,
          -35.11763000488281,
          -35.11763000488281,
          -35.11763000488281,
          -35.11763000488281,
          -35.11763000488281,
          -199.68589782714844,
          -199.68589782714844,
          -199.68589782714844,
          -199.68589782714844,
          -145.6634521484375,
          -145.6634521484375,
          -145.6634521484375,
          -101.17831420898438,
          -101.17831420898438,
          -159.68951416015625,
          -159.68951416015625,
          -159.68951416015625,
          244.5290069580078,
          244.5290069580078,
          244.5290069580078,
          244.5290069580078,
          165.66673278808594,
          133.0902557373047,
          133.0902557373047,
          245.9467010498047,
          245.9467010498047,
          289.80517578125,
          289.80517578125,
          245.9467010498047,
          245.9467010498047,
          82.1038818359375,
          82.1038818359375,
          116.21653747558594,
          -216.7137908935547,
          -216.7137908935547,
          -216.7137908935547,
          -216.7137908935547,
          -216.7137908935547,
          -35.11763000488281,
          -35.11763000488281,
          -35.11763000488281,
          -35.11763000488281,
          -35.11763000488281,
          -35.11763000488281,
          -35.11763000488281,
          -35.11763000488281,
          -35.11763000488281,
          -199.68589782714844,
          -199.68589782714844,
          -145.6634521484375,
          -145.6634521484375,
          -145.6634521484375,
          -101.17831420898438,
          -101.17831420898438,
          -159.68951416015625,
          -159.68951416015625,
          -159.68951416015625,
          -159.68951416015625,
          244.5290069580078,
          244.5290069580078,
          165.66673278808594,
          133.0902557373047,
          133.0902557373047,
          289.80517578125,
          289.80517578125,
          289.80517578125,
          289.80517578125,
          289.80517578125,
          289.80517578125,
          82.1038818359375,
          82.1038818359375,
          116.21653747558594
         ],
         "yaxis": "y"
        },
        {
         "hovertemplate": "color=0.0<br>x=%{x}<br>y=%{y}<extra></extra>",
         "legendgroup": "0.0",
         "marker": {
          "color": "#EF553B",
          "symbol": "circle"
         },
         "mode": "markers",
         "name": "0.0",
         "orientation": "v",
         "showlegend": true,
         "type": "scatter",
         "x": [
          -170.8321075439453,
          -242.18553161621094,
          -220.59298706054688,
          -208.9257049560547,
          -18.706275939941406,
          -18.706275939941406,
          75.42448425292969,
          75.42448425292969,
          -170.8321075439453,
          -263.539306640625,
          -220.59298706054688,
          75.90242767333984,
          -46.6810302734375,
          -18.706275939941406,
          92.89994812011719,
          65.46015167236328,
          65.46015167236328,
          -236.97483825683594,
          -46.05463790893555,
          -33.61560821533203,
          75.90242767333984,
          150.07301330566406,
          113.81977844238281,
          107.8201904296875,
          -161.67628479003906,
          -263.539306640625,
          -242.18553161621094,
          -220.59298706054688,
          -220.59298706054688,
          -69.2618637084961,
          -67.90949249267578,
          70.02306365966797,
          101.72270202636719,
          107.8201904296875,
          -123.65071868896484,
          -259.0047302246094,
          -242.18553161621094,
          -220.59298706054688,
          -33.61560821533203,
          70.02306365966797,
          174.23587036132812,
          37.044677734375,
          59.631805419921875,
          37.044677734375,
          21.771135330200195,
          21.771135330200195,
          76.2606430053711,
          89.88294982910156,
          89.88294982910156,
          156.45372009277344,
          -136.92845153808594,
          -223.34701538085938,
          -223.34701538085938,
          -193.27943420410156,
          -132.5671844482422,
          -132.5671844482422,
          -132.5671844482422,
          -123.52255249023438,
          -33.21326446533203,
          204.6541748046875,
          231.30091857910156,
          37.044677734375,
          37.044677734375,
          59.631805419921875,
          19.287630081176758,
          21.771135330200195,
          19.287630081176758,
          76.2606430053711,
          76.2606430053711,
          157.5812225341797,
          -250.1309814453125,
          -223.34701538085938,
          -250.1309814453125,
          -132.5671844482422,
          -110.8628158569336,
          -110.8628158569336,
          -121.75723266601562,
          -143.48048400878906,
          -45.98529052734375,
          245.54644775390625,
          -30.919776916503906,
          -23.03736686706543,
          128.5238037109375,
          128.5238037109375,
          128.5238037109375,
          -220.5364227294922,
          -220.5364227294922,
          -220.5364227294922,
          -110.8628158569336,
          -110.8628158569336,
          -159.4534149169922,
          -155.94345092773438,
          -33.21326446533203,
          -33.21326446533203,
          231.30091857910156,
          -30.919776916503906,
          -23.03736686706543,
          104.18207550048828,
          104.18207550048828,
          131.17140197753906,
          131.17140197753906,
          156.45372009277344,
          -102.95441436767578,
          -220.5364227294922,
          -220.5364227294922,
          -132.5671844482422,
          -132.5671844482422,
          -132.5671844482422,
          -132.5671844482422,
          -132.5671844482422,
          -155.94345092773438,
          -155.94345092773438,
          -155.94345092773438,
          -33.21326446533203,
          -33.21326446533203,
          204.6541748046875,
          204.6541748046875,
          231.30091857910156,
          104.18207550048828,
          104.18207550048828,
          131.17140197753906,
          131.17140197753906,
          -220.5364227294922,
          -132.5671844482422,
          -132.5671844482422,
          -132.5671844482422,
          -132.5671844482422,
          -155.94345092773438,
          -155.94345092773438,
          -155.94345092773438,
          -64.36563873291016,
          204.6541748046875,
          204.6541748046875,
          231.30091857910156
         ],
         "xaxis": "x",
         "y": [
          -21.202190399169922,
          17.985525131225586,
          53.575164794921875,
          81.21485137939453,
          -44.61915588378906,
          -44.61915588378906,
          -8.94802188873291,
          -8.94802188873291,
          -21.202190399169922,
          -1.703640103340149,
          53.575164794921875,
          121.44879913330078,
          -15.418533325195312,
          -44.61915588378906,
          -69.57097625732422,
          20.45964241027832,
          20.45964241027832,
          -7.873392581939697,
          61.63576126098633,
          94.1038818359375,
          121.44879913330078,
          202.8324432373047,
          -63.53062438964844,
          -6.58007287979126,
          19.409658432006836,
          -1.703640103340149,
          17.985525131225586,
          53.575164794921875,
          53.575164794921875,
          112.63446807861328,
          86.5107650756836,
          174.0638885498047,
          -48.48780822753906,
          -6.58007287979126,
          17.85223388671875,
          43.25911331176758,
          17.985525131225586,
          53.575164794921875,
          94.1038818359375,
          174.0638885498047,
          176.480224609375,
          -280.6258850097656,
          -254.43380737304688,
          -280.6258850097656,
          -203.9713592529297,
          -203.9713592529297,
          -158.3308563232422,
          -175.99560546875,
          -175.99560546875,
          -45.63127899169922,
          -149.43353271484375,
          -108.92723083496094,
          -108.92723083496094,
          -117.62576293945312,
          244.5290069580078,
          244.5290069580078,
          244.5290069580078,
          161.22787475585938,
          245.9467010498047,
          82.1038818359375,
          116.21653747558594,
          -280.6258850097656,
          -280.6258850097656,
          -254.43380737304688,
          -170.7228240966797,
          -203.9713592529297,
          -170.7228240966797,
          -158.3308563232422,
          -158.3308563232422,
          -26.206796646118164,
          -123.77239227294922,
          -108.92723083496094,
          -123.77239227294922,
          244.5290069580078,
          209.2525634765625,
          209.2525634765625,
          143.25364685058594,
          166.6660614013672,
          208.54299926757812,
          90.59619140625,
          -205.79019165039062,
          -172.28811645507812,
          -140.24111938476562,
          -140.24111938476562,
          -140.24111938476562,
          -159.68951416015625,
          -159.68951416015625,
          -159.68951416015625,
          209.2525634765625,
          209.2525634765625,
          216.11952209472656,
          133.0902557373047,
          245.9467010498047,
          245.9467010498047,
          116.21653747558594,
          -205.79019165039062,
          -172.28811645507812,
          -138.42715454101562,
          -138.42715454101562,
          -216.7137908935547,
          -216.7137908935547,
          -45.63127899169922,
          -145.6634521484375,
          -159.68951416015625,
          -159.68951416015625,
          244.5290069580078,
          244.5290069580078,
          244.5290069580078,
          244.5290069580078,
          244.5290069580078,
          133.0902557373047,
          133.0902557373047,
          133.0902557373047,
          245.9467010498047,
          245.9467010498047,
          82.1038818359375,
          82.1038818359375,
          116.21653747558594,
          -138.42715454101562,
          -138.42715454101562,
          -216.7137908935547,
          -216.7137908935547,
          -159.68951416015625,
          244.5290069580078,
          244.5290069580078,
          244.5290069580078,
          244.5290069580078,
          133.0902557373047,
          133.0902557373047,
          133.0902557373047,
          289.80517578125,
          82.1038818359375,
          82.1038818359375,
          116.21653747558594
         ],
         "yaxis": "y"
        }
       ],
       "layout": {
        "legend": {
         "title": {
          "text": "color"
         },
         "tracegroupgap": 0
        },
        "margin": {
         "t": 60
        },
        "template": {
         "data": {
          "bar": [
           {
            "error_x": {
             "color": "#2a3f5f"
            },
            "error_y": {
             "color": "#2a3f5f"
            },
            "marker": {
             "line": {
              "color": "#E5ECF6",
              "width": 0.5
             },
             "pattern": {
              "fillmode": "overlay",
              "size": 10,
              "solidity": 0.2
             }
            },
            "type": "bar"
           }
          ],
          "barpolar": [
           {
            "marker": {
             "line": {
              "color": "#E5ECF6",
              "width": 0.5
             },
             "pattern": {
              "fillmode": "overlay",
              "size": 10,
              "solidity": 0.2
             }
            },
            "type": "barpolar"
           }
          ],
          "carpet": [
           {
            "aaxis": {
             "endlinecolor": "#2a3f5f",
             "gridcolor": "white",
             "linecolor": "white",
             "minorgridcolor": "white",
             "startlinecolor": "#2a3f5f"
            },
            "baxis": {
             "endlinecolor": "#2a3f5f",
             "gridcolor": "white",
             "linecolor": "white",
             "minorgridcolor": "white",
             "startlinecolor": "#2a3f5f"
            },
            "type": "carpet"
           }
          ],
          "choropleth": [
           {
            "colorbar": {
             "outlinewidth": 0,
             "ticks": ""
            },
            "type": "choropleth"
           }
          ],
          "contour": [
           {
            "colorbar": {
             "outlinewidth": 0,
             "ticks": ""
            },
            "colorscale": [
             [
              0,
              "#0d0887"
             ],
             [
              0.1111111111111111,
              "#46039f"
             ],
             [
              0.2222222222222222,
              "#7201a8"
             ],
             [
              0.3333333333333333,
              "#9c179e"
             ],
             [
              0.4444444444444444,
              "#bd3786"
             ],
             [
              0.5555555555555556,
              "#d8576b"
             ],
             [
              0.6666666666666666,
              "#ed7953"
             ],
             [
              0.7777777777777778,
              "#fb9f3a"
             ],
             [
              0.8888888888888888,
              "#fdca26"
             ],
             [
              1,
              "#f0f921"
             ]
            ],
            "type": "contour"
           }
          ],
          "contourcarpet": [
           {
            "colorbar": {
             "outlinewidth": 0,
             "ticks": ""
            },
            "type": "contourcarpet"
           }
          ],
          "heatmap": [
           {
            "colorbar": {
             "outlinewidth": 0,
             "ticks": ""
            },
            "colorscale": [
             [
              0,
              "#0d0887"
             ],
             [
              0.1111111111111111,
              "#46039f"
             ],
             [
              0.2222222222222222,
              "#7201a8"
             ],
             [
              0.3333333333333333,
              "#9c179e"
             ],
             [
              0.4444444444444444,
              "#bd3786"
             ],
             [
              0.5555555555555556,
              "#d8576b"
             ],
             [
              0.6666666666666666,
              "#ed7953"
             ],
             [
              0.7777777777777778,
              "#fb9f3a"
             ],
             [
              0.8888888888888888,
              "#fdca26"
             ],
             [
              1,
              "#f0f921"
             ]
            ],
            "type": "heatmap"
           }
          ],
          "heatmapgl": [
           {
            "colorbar": {
             "outlinewidth": 0,
             "ticks": ""
            },
            "colorscale": [
             [
              0,
              "#0d0887"
             ],
             [
              0.1111111111111111,
              "#46039f"
             ],
             [
              0.2222222222222222,
              "#7201a8"
             ],
             [
              0.3333333333333333,
              "#9c179e"
             ],
             [
              0.4444444444444444,
              "#bd3786"
             ],
             [
              0.5555555555555556,
              "#d8576b"
             ],
             [
              0.6666666666666666,
              "#ed7953"
             ],
             [
              0.7777777777777778,
              "#fb9f3a"
             ],
             [
              0.8888888888888888,
              "#fdca26"
             ],
             [
              1,
              "#f0f921"
             ]
            ],
            "type": "heatmapgl"
           }
          ],
          "histogram": [
           {
            "marker": {
             "pattern": {
              "fillmode": "overlay",
              "size": 10,
              "solidity": 0.2
             }
            },
            "type": "histogram"
           }
          ],
          "histogram2d": [
           {
            "colorbar": {
             "outlinewidth": 0,
             "ticks": ""
            },
            "colorscale": [
             [
              0,
              "#0d0887"
             ],
             [
              0.1111111111111111,
              "#46039f"
             ],
             [
              0.2222222222222222,
              "#7201a8"
             ],
             [
              0.3333333333333333,
              "#9c179e"
             ],
             [
              0.4444444444444444,
              "#bd3786"
             ],
             [
              0.5555555555555556,
              "#d8576b"
             ],
             [
              0.6666666666666666,
              "#ed7953"
             ],
             [
              0.7777777777777778,
              "#fb9f3a"
             ],
             [
              0.8888888888888888,
              "#fdca26"
             ],
             [
              1,
              "#f0f921"
             ]
            ],
            "type": "histogram2d"
           }
          ],
          "histogram2dcontour": [
           {
            "colorbar": {
             "outlinewidth": 0,
             "ticks": ""
            },
            "colorscale": [
             [
              0,
              "#0d0887"
             ],
             [
              0.1111111111111111,
              "#46039f"
             ],
             [
              0.2222222222222222,
              "#7201a8"
             ],
             [
              0.3333333333333333,
              "#9c179e"
             ],
             [
              0.4444444444444444,
              "#bd3786"
             ],
             [
              0.5555555555555556,
              "#d8576b"
             ],
             [
              0.6666666666666666,
              "#ed7953"
             ],
             [
              0.7777777777777778,
              "#fb9f3a"
             ],
             [
              0.8888888888888888,
              "#fdca26"
             ],
             [
              1,
              "#f0f921"
             ]
            ],
            "type": "histogram2dcontour"
           }
          ],
          "mesh3d": [
           {
            "colorbar": {
             "outlinewidth": 0,
             "ticks": ""
            },
            "type": "mesh3d"
           }
          ],
          "parcoords": [
           {
            "line": {
             "colorbar": {
              "outlinewidth": 0,
              "ticks": ""
             }
            },
            "type": "parcoords"
           }
          ],
          "pie": [
           {
            "automargin": true,
            "type": "pie"
           }
          ],
          "scatter": [
           {
            "fillpattern": {
             "fillmode": "overlay",
             "size": 10,
             "solidity": 0.2
            },
            "type": "scatter"
           }
          ],
          "scatter3d": [
           {
            "line": {
             "colorbar": {
              "outlinewidth": 0,
              "ticks": ""
             }
            },
            "marker": {
             "colorbar": {
              "outlinewidth": 0,
              "ticks": ""
             }
            },
            "type": "scatter3d"
           }
          ],
          "scattercarpet": [
           {
            "marker": {
             "colorbar": {
              "outlinewidth": 0,
              "ticks": ""
             }
            },
            "type": "scattercarpet"
           }
          ],
          "scattergeo": [
           {
            "marker": {
             "colorbar": {
              "outlinewidth": 0,
              "ticks": ""
             }
            },
            "type": "scattergeo"
           }
          ],
          "scattergl": [
           {
            "marker": {
             "colorbar": {
              "outlinewidth": 0,
              "ticks": ""
             }
            },
            "type": "scattergl"
           }
          ],
          "scattermapbox": [
           {
            "marker": {
             "colorbar": {
              "outlinewidth": 0,
              "ticks": ""
             }
            },
            "type": "scattermapbox"
           }
          ],
          "scatterpolar": [
           {
            "marker": {
             "colorbar": {
              "outlinewidth": 0,
              "ticks": ""
             }
            },
            "type": "scatterpolar"
           }
          ],
          "scatterpolargl": [
           {
            "marker": {
             "colorbar": {
              "outlinewidth": 0,
              "ticks": ""
             }
            },
            "type": "scatterpolargl"
           }
          ],
          "scatterternary": [
           {
            "marker": {
             "colorbar": {
              "outlinewidth": 0,
              "ticks": ""
             }
            },
            "type": "scatterternary"
           }
          ],
          "surface": [
           {
            "colorbar": {
             "outlinewidth": 0,
             "ticks": ""
            },
            "colorscale": [
             [
              0,
              "#0d0887"
             ],
             [
              0.1111111111111111,
              "#46039f"
             ],
             [
              0.2222222222222222,
              "#7201a8"
             ],
             [
              0.3333333333333333,
              "#9c179e"
             ],
             [
              0.4444444444444444,
              "#bd3786"
             ],
             [
              0.5555555555555556,
              "#d8576b"
             ],
             [
              0.6666666666666666,
              "#ed7953"
             ],
             [
              0.7777777777777778,
              "#fb9f3a"
             ],
             [
              0.8888888888888888,
              "#fdca26"
             ],
             [
              1,
              "#f0f921"
             ]
            ],
            "type": "surface"
           }
          ],
          "table": [
           {
            "cells": {
             "fill": {
              "color": "#EBF0F8"
             },
             "line": {
              "color": "white"
             }
            },
            "header": {
             "fill": {
              "color": "#C8D4E3"
             },
             "line": {
              "color": "white"
             }
            },
            "type": "table"
           }
          ]
         },
         "layout": {
          "annotationdefaults": {
           "arrowcolor": "#2a3f5f",
           "arrowhead": 0,
           "arrowwidth": 1
          },
          "autotypenumbers": "strict",
          "coloraxis": {
           "colorbar": {
            "outlinewidth": 0,
            "ticks": ""
           }
          },
          "colorscale": {
           "diverging": [
            [
             0,
             "#8e0152"
            ],
            [
             0.1,
             "#c51b7d"
            ],
            [
             0.2,
             "#de77ae"
            ],
            [
             0.3,
             "#f1b6da"
            ],
            [
             0.4,
             "#fde0ef"
            ],
            [
             0.5,
             "#f7f7f7"
            ],
            [
             0.6,
             "#e6f5d0"
            ],
            [
             0.7,
             "#b8e186"
            ],
            [
             0.8,
             "#7fbc41"
            ],
            [
             0.9,
             "#4d9221"
            ],
            [
             1,
             "#276419"
            ]
           ],
           "sequential": [
            [
             0,
             "#0d0887"
            ],
            [
             0.1111111111111111,
             "#46039f"
            ],
            [
             0.2222222222222222,
             "#7201a8"
            ],
            [
             0.3333333333333333,
             "#9c179e"
            ],
            [
             0.4444444444444444,
             "#bd3786"
            ],
            [
             0.5555555555555556,
             "#d8576b"
            ],
            [
             0.6666666666666666,
             "#ed7953"
            ],
            [
             0.7777777777777778,
             "#fb9f3a"
            ],
            [
             0.8888888888888888,
             "#fdca26"
            ],
            [
             1,
             "#f0f921"
            ]
           ],
           "sequentialminus": [
            [
             0,
             "#0d0887"
            ],
            [
             0.1111111111111111,
             "#46039f"
            ],
            [
             0.2222222222222222,
             "#7201a8"
            ],
            [
             0.3333333333333333,
             "#9c179e"
            ],
            [
             0.4444444444444444,
             "#bd3786"
            ],
            [
             0.5555555555555556,
             "#d8576b"
            ],
            [
             0.6666666666666666,
             "#ed7953"
            ],
            [
             0.7777777777777778,
             "#fb9f3a"
            ],
            [
             0.8888888888888888,
             "#fdca26"
            ],
            [
             1,
             "#f0f921"
            ]
           ]
          },
          "colorway": [
           "#636efa",
           "#EF553B",
           "#00cc96",
           "#ab63fa",
           "#FFA15A",
           "#19d3f3",
           "#FF6692",
           "#B6E880",
           "#FF97FF",
           "#FECB52"
          ],
          "font": {
           "color": "#2a3f5f"
          },
          "geo": {
           "bgcolor": "white",
           "lakecolor": "white",
           "landcolor": "#E5ECF6",
           "showlakes": true,
           "showland": true,
           "subunitcolor": "white"
          },
          "hoverlabel": {
           "align": "left"
          },
          "hovermode": "closest",
          "mapbox": {
           "style": "light"
          },
          "paper_bgcolor": "white",
          "plot_bgcolor": "#E5ECF6",
          "polar": {
           "angularaxis": {
            "gridcolor": "white",
            "linecolor": "white",
            "ticks": ""
           },
           "bgcolor": "#E5ECF6",
           "radialaxis": {
            "gridcolor": "white",
            "linecolor": "white",
            "ticks": ""
           }
          },
          "scene": {
           "xaxis": {
            "backgroundcolor": "#E5ECF6",
            "gridcolor": "white",
            "gridwidth": 2,
            "linecolor": "white",
            "showbackground": true,
            "ticks": "",
            "zerolinecolor": "white"
           },
           "yaxis": {
            "backgroundcolor": "#E5ECF6",
            "gridcolor": "white",
            "gridwidth": 2,
            "linecolor": "white",
            "showbackground": true,
            "ticks": "",
            "zerolinecolor": "white"
           },
           "zaxis": {
            "backgroundcolor": "#E5ECF6",
            "gridcolor": "white",
            "gridwidth": 2,
            "linecolor": "white",
            "showbackground": true,
            "ticks": "",
            "zerolinecolor": "white"
           }
          },
          "shapedefaults": {
           "line": {
            "color": "#2a3f5f"
           }
          },
          "ternary": {
           "aaxis": {
            "gridcolor": "white",
            "linecolor": "white",
            "ticks": ""
           },
           "baxis": {
            "gridcolor": "white",
            "linecolor": "white",
            "ticks": ""
           },
           "bgcolor": "#E5ECF6",
           "caxis": {
            "gridcolor": "white",
            "linecolor": "white",
            "ticks": ""
           }
          },
          "title": {
           "x": 0.05
          },
          "xaxis": {
           "automargin": true,
           "gridcolor": "white",
           "linecolor": "white",
           "ticks": "",
           "title": {
            "standoff": 15
           },
           "zerolinecolor": "white",
           "zerolinewidth": 2
          },
          "yaxis": {
           "automargin": true,
           "gridcolor": "white",
           "linecolor": "white",
           "ticks": "",
           "title": {
            "standoff": 15
           },
           "zerolinecolor": "white",
           "zerolinewidth": 2
          }
         }
        },
        "xaxis": {
         "anchor": "y",
         "domain": [
          0,
          1
         ],
         "title": {
          "text": "x"
         }
        },
        "yaxis": {
         "anchor": "x",
         "domain": [
          0,
          1
         ],
         "title": {
          "text": "y"
         }
        }
       }
      },
      "text/html": [
       "<div>                            <div id=\"ab841bb4-7d99-4518-920b-716ec72cada9\" class=\"plotly-graph-div\" style=\"height:525px; width:100%;\"></div>            <script type=\"text/javascript\">                require([\"plotly\"], function(Plotly) {                    window.PLOTLYENV=window.PLOTLYENV || {};                                    if (document.getElementById(\"ab841bb4-7d99-4518-920b-716ec72cada9\")) {                    Plotly.newPlot(                        \"ab841bb4-7d99-4518-920b-716ec72cada9\",                        [{\"hovertemplate\":\"color=1.0\\u003cbr\\u003ex=%{x}\\u003cbr\\u003ey=%{y}\\u003cextra\\u003e\\u003c\\u002fextra\\u003e\",\"legendgroup\":\"1.0\",\"marker\":{\"color\":\"#636efa\",\"symbol\":\"circle\"},\"mode\":\"markers\",\"name\":\"1.0\",\"orientation\":\"v\",\"showlegend\":true,\"x\":[-170.8321075439453,-123.65071868896484,-123.65071868896484,-123.65071868896484,-123.65071868896484,-96.42152404785156,-123.65071868896484,-242.18553161621094,-220.59298706054688,-220.59298706054688,-67.90949249267578,-33.61560821533203,-33.61560821533203,-33.61560821533203,75.90242767333984,75.90242767333984,36.61383056640625,107.48646545410156,75.90242767333984,75.90242767333984,127.23578643798828,75.90242767333984,75.90242767333984,70.02306365966797,108.20379638671875,108.20379638671875,45.101470947265625,75.90242767333984,150.07301330566406,7.932697772979736,7.932697772979736,-18.706275939941406,-18.706275939941406,12.676950454711914,-18.706275939941406,-18.706275939941406,-18.706275939941406,-18.706275939941406,24.29491424560547,26.45537567138672,92.89994812011719,75.42448425292969,75.42448425292969,-170.8321075439453,-157.19874572753906,-170.8321075439453,-123.65071868896484,-123.65071868896484,-123.65071868896484,-123.65071868896484,-128.45375061035156,-161.67628479003906,-271.14825439453125,-220.59298706054688,-220.59298706054688,-33.61560821533203,-33.61560821533203,-33.61560821533203,-46.05463790893555,-33.61560821533203,75.90242767333984,75.90242767333984,75.90242767333984,75.90242767333984,127.23578643798828,89.2995376586914,75.90242767333984,75.90242767333984,75.90242767333984,75.90242767333984,75.90242767333984,75.90242767333984,107.48646545410156,75.90242767333984,75.90242767333984,150.07301330566406,7.932697772979736,7.932697772979736,-17.07339859008789,-17.07339859008789,-18.706275939941406,-17.07339859008789,-18.706275939941406,9.858565330505371,50.69017028808594,81.67713928222656,92.89994812011719,107.8201904296875,75.42448425292969,75.42448425292969,107.8201904296875,65.46015167236328,-190.02459716796875,-123.65071868896484,-123.65071868896484,-128.45375061035156,-123.65071868896484,-123.65071868896484,-128.45375061035156,-220.59298706054688,-220.59298706054688,-33.61560821533203,-46.05463790893555,-67.90949249267578,-21.64589500427246,75.90242767333984,127.23578643798828,75.90242767333984,75.90242767333984,127.23578643798828,108.20379638671875,75.90242767333984,75.90242767333984,127.23578643798828,75.90242767333984,75.90242767333984,127.23578643798828,108.20379638671875,108.20379638671875,70.02306365966797,150.07301330566406,130.78514099121094,150.07301330566406,7.932697772979736,30.675140380859375,-17.07339859008789,-18.706275939941406,-18.706275939941406,-56.805938720703125,-18.706275939941406,-18.706275939941406,-56.805938720703125,26.45537567138672,26.45537567138672,9.858565330505371,92.89994812011719,75.42448425292969,75.42448425292969,-161.67628479003906,-123.65071868896484,-123.65071868896484,-128.45375061035156,-123.65071868896484,-123.65071868896484,-128.45375061035156,-125.0560531616211,-271.14825439453125,-271.14825439453125,-220.59298706054688,-250.23435974121094,-33.61560821533203,-33.61560821533203,-46.05463790893555,-33.61560821533203,127.23578643798828,108.20379638671875,108.20379638671875,75.90242767333984,75.90242767333984,36.61383056640625,75.90242767333984,75.90242767333984,36.61383056640625,108.20379638671875,75.90242767333984,75.90242767333984,36.61383056640625,150.07301330566406,7.932697772979736,12.088767051696777,-17.07339859008789,-17.07339859008789,-46.6810302734375,-18.706275939941406,-18.706275939941406,38.28517532348633,9.858565330505371,9.858565330505371,38.28517532348633,75.42448425292969,75.42448425292969,75.42448425292969,-170.8321075439453,-128.45375061035156,-161.67628479003906,-161.67628479003906,-123.65071868896484,-123.65071868896484,-149.2120361328125,-123.65071868896484,-236.97483825683594,-242.18553161621094,-234.54818725585938,-33.61560821533203,-67.90949249267578,-49.00743865966797,-49.00743865966797,75.90242767333984,75.90242767333984,75.90242767333984,75.90242767333984,75.90242767333984,36.61383056640625,108.20379638671875,75.90242767333984,75.90242767333984,36.61383056640625,75.90242767333984,75.90242767333984,75.90242767333984,108.20379638671875,160.96710205078125,7.932697772979736,46.14276123046875,46.14276123046875,26.763988494873047,-48.96224594116211,-33.40279006958008,-48.96224594116211,-48.96224594116211,-48.96224594116211,-15.792526245117188,95.27674102783203,95.27674102783203,95.27674102783203,38.68173599243164,37.044677734375,37.044677734375,37.044677734375,37.044677734375,37.044677734375,21.771135330200195,21.771135330200195,21.771135330200195,21.771135330200195,21.771135330200195,21.771135330200195,21.771135330200195,131.17140197753906,131.17140197753906,165.70394897460938,131.17140197753906,131.17140197753906,232.65602111816406,263.53839111328125,232.65602111816406,232.65602111816406,232.65602111816406,232.65602111816406,232.65602111816406,232.65602111816406,232.65602111816406,199.00584411621094,232.65602111816406,157.5812225341797,-167.3039093017578,-167.3039093017578,-167.3039093017578,-136.92845153808594,-136.84942626953125,-136.84942626953125,-223.34701538085938,-223.34701538085938,-193.27943420410156,-193.27943420410156,-132.5671844482422,-132.5671844482422,-132.5671844482422,-143.48048400878906,-33.21326446533203,-33.21326446533203,-33.21326446533203,-33.21326446533203,-33.21326446533203,-45.98529052734375,204.6541748046875,245.54644775390625,231.30091857910156,37.044677734375,37.044677734375,37.044677734375,37.044677734375,37.044677734375,37.044677734375,21.771135330200195,21.771135330200195,21.771135330200195,21.771135330200195,21.771135330200195,76.2606430053711,131.17140197753906,131.17140197753906,131.17140197753906,149.5888214111328,149.5888214111328,199.00584411621094,199.00584411621094,232.65602111816406,232.65602111816406,268.6214904785156,232.65602111816406,232.65602111816406,232.65602111816406,199.00584411621094,232.65602111816406,232.65602111816406,156.45372009277344,-167.3039093017578,-136.92845153808594,-111.90555572509766,-111.90555572509766,-223.34701538085938,-223.34701538085938,-223.34701538085938,-223.34701538085938,-193.27943420410156,-132.5671844482422,-132.5671844482422,-132.5671844482422,-132.5671844482422,-110.8628158569336,-183.87315368652344,-183.87315368652344,-33.21326446533203,-33.21326446533203,-33.21326446533203,-33.21326446533203,-68.50362396240234,-33.21326446533203,-33.21326446533203,204.6541748046875,192.76864624023438,258.0390319824219,37.044677734375,37.044677734375,37.044677734375,37.044677734375,37.044677734375,-52.43434143066406,-30.919776916503906,-30.919776916503906,-30.919776916503906,-30.919776916503906,-30.919776916503906,-23.03736686706543,115.50833129882812,131.17140197753906,168.9314727783203,131.17140197753906,131.17140197753906,131.17140197753906,207.61207580566406,247.5729522705078,247.5729522705078,247.5729522705078,247.5729522705078,247.5729522705078,247.5729522705078,207.61207580566406,207.61207580566406,282.8150939941406,247.5729522705078,-190.42547607421875,-102.95441436767578,-102.95441436767578,-136.84942626953125,-111.90555572509766,-189.02798461914062,-220.5364227294922,-220.5364227294922,-110.8628158569336,-132.5671844482422,-132.5671844482422,-183.87315368652344,-183.87315368652344,-183.8063507080078,-33.21326446533203,-33.21326446533203,-33.21326446533203,-33.21326446533203,-45.98529052734375,-45.98529052734375,226.1354522705078,-34.14280319213867,-34.14280319213867,-34.14280319213867,-34.14280319213867,-59.57712173461914,-34.14280319213867,-34.14280319213867,-34.14280319213867,-30.919776916503906,-30.919776916503906,-30.919776916503906,-23.03736686706543,-23.03736686706543,-30.919776916503906,-30.919776916503906,-30.919776916503906,131.17140197753906,165.70394897460938,131.17140197753906,131.17140197753906,131.17140197753906,131.17140197753906,247.5729522705078,207.61207580566406,247.5729522705078,247.5729522705078,247.5729522705078,247.5729522705078,247.5729522705078,247.5729522705078,247.5729522705078,247.5729522705078,247.5729522705078,-167.3039093017578,-167.3039093017578,-167.3039093017578,-167.3039093017578,-102.95441436767578,-102.95441436767578,-102.95441436767578,-136.84942626953125,-136.84942626953125,-220.5364227294922,-220.5364227294922,-220.5364227294922,-132.5671844482422,-132.5671844482422,-132.5671844482422,-132.5671844482422,-183.87315368652344,-155.94345092773438,-155.94345092773438,-33.21326446533203,-33.21326446533203,-64.36563873291016,-64.36563873291016,-33.21326446533203,-33.21326446533203,204.6541748046875,204.6541748046875,231.30091857910156,131.17140197753906,131.17140197753906,131.17140197753906,131.17140197753906,131.17140197753906,247.5729522705078,247.5729522705078,247.5729522705078,247.5729522705078,247.5729522705078,247.5729522705078,247.5729522705078,247.5729522705078,247.5729522705078,-167.3039093017578,-167.3039093017578,-102.95441436767578,-102.95441436767578,-102.95441436767578,-136.84942626953125,-136.84942626953125,-220.5364227294922,-220.5364227294922,-220.5364227294922,-220.5364227294922,-132.5671844482422,-132.5671844482422,-183.87315368652344,-155.94345092773438,-155.94345092773438,-64.36563873291016,-64.36563873291016,-64.36563873291016,-64.36563873291016,-64.36563873291016,-64.36563873291016,204.6541748046875,204.6541748046875,231.30091857910156],\"xaxis\":\"x\",\"y\":[-21.202190399169922,17.85223388671875,17.85223388671875,17.85223388671875,17.85223388671875,-7.423986434936523,17.85223388671875,17.985525131225586,53.575164794921875,53.575164794921875,86.5107650756836,94.1038818359375,94.1038818359375,94.1038818359375,121.44879913330078,121.44879913330078,151.83746337890625,83.17194366455078,121.44879913330078,121.44879913330078,119.71299743652344,121.44879913330078,121.44879913330078,174.0638885498047,161.70648193359375,161.70648193359375,187.19415283203125,121.44879913330078,202.8324432373047,53.233428955078125,53.233428955078125,-44.61915588378906,-44.61915588378906,-31.45572280883789,-44.61915588378906,-44.61915588378906,-44.61915588378906,-44.61915588378906,-117.9601058959961,-80.93574523925781,-69.57097625732422,-8.94802188873291,-8.94802188873291,-21.202190399169922,-44.04537582397461,-21.202190399169922,17.85223388671875,17.85223388671875,17.85223388671875,17.85223388671875,-20.596948623657227,19.409658432006836,24.03802490234375,53.575164794921875,53.575164794921875,94.1038818359375,94.1038818359375,94.1038818359375,61.63576126098633,94.1038818359375,121.44879913330078,121.44879913330078,121.44879913330078,121.44879913330078,119.71299743652344,197.1921844482422,121.44879913330078,121.44879913330078,121.44879913330078,121.44879913330078,121.44879913330078,121.44879913330078,83.17194366455078,121.44879913330078,121.44879913330078,202.8324432373047,53.233428955078125,53.233428955078125,-7.427723407745361,-7.427723407745361,-44.61915588378906,-7.427723407745361,-44.61915588378906,-99.34866333007812,-85.92466735839844,-51.72052001953125,-69.57097625732422,-6.58007287979126,-8.94802188873291,-8.94802188873291,-6.58007287979126,20.45964241027832,-2.9028146266937256,17.85223388671875,17.85223388671875,-20.596948623657227,17.85223388671875,17.85223388671875,-20.596948623657227,53.575164794921875,53.575164794921875,94.1038818359375,61.63576126098633,86.5107650756836,124.9444351196289,121.44879913330078,119.71299743652344,121.44879913330078,121.44879913330078,119.71299743652344,161.70648193359375,121.44879913330078,121.44879913330078,119.71299743652344,121.44879913330078,121.44879913330078,119.71299743652344,161.70648193359375,161.70648193359375,174.0638885498047,202.8324432373047,218.16830444335938,202.8324432373047,53.233428955078125,58.462467193603516,-7.427723407745361,-44.61915588378906,-44.61915588378906,-38.21306228637695,-44.61915588378906,-44.61915588378906,-38.21306228637695,-80.93574523925781,-80.93574523925781,-99.34866333007812,-69.57097625732422,-8.94802188873291,-8.94802188873291,19.409658432006836,17.85223388671875,17.85223388671875,-20.596948623657227,17.85223388671875,17.85223388671875,-20.596948623657227,55.06180953979492,24.03802490234375,24.03802490234375,53.575164794921875,66.2530288696289,94.1038818359375,94.1038818359375,61.63576126098633,94.1038818359375,119.71299743652344,161.70648193359375,161.70648193359375,121.44879913330078,121.44879913330078,151.83746337890625,121.44879913330078,121.44879913330078,151.83746337890625,161.70648193359375,121.44879913330078,121.44879913330078,151.83746337890625,202.8324432373047,53.233428955078125,-11.217495918273926,-7.427723407745361,-7.427723407745361,-15.418533325195312,-44.61915588378906,-44.61915588378906,-102.17366790771484,-99.34866333007812,-99.34866333007812,-102.17366790771484,-8.94802188873291,-8.94802188873291,-8.94802188873291,-21.202190399169922,-20.596948623657227,19.409658432006836,19.409658432006836,17.85223388671875,17.85223388671875,48.628501892089844,17.85223388671875,-7.873392581939697,17.985525131225586,82.37306213378906,94.1038818359375,86.5107650756836,124.32368469238281,124.32368469238281,121.44879913330078,121.44879913330078,121.44879913330078,121.44879913330078,121.44879913330078,151.83746337890625,161.70648193359375,121.44879913330078,121.44879913330078,151.83746337890625,121.44879913330078,121.44879913330078,121.44879913330078,161.70648193359375,166.48971557617188,53.233428955078125,-59.96200180053711,-59.96200180053711,-55.62892532348633,-66.13734436035156,-88.74173736572266,-66.13734436035156,-66.13734436035156,-66.13734436035156,-77.65990447998047,19.307985305786133,19.307985305786133,19.307985305786133,-41.6164436340332,-280.6258850097656,-280.6258850097656,-280.6258850097656,-280.6258850097656,-280.6258850097656,-203.9713592529297,-203.9713592529297,-203.9713592529297,-203.9713592529297,-203.9713592529297,-203.9713592529297,-203.9713592529297,-216.7137908935547,-216.7137908935547,-232.93382263183594,-216.7137908935547,-216.7137908935547,-93.47147369384766,-111.37618255615234,-93.47147369384766,-93.47147369384766,-93.47147369384766,-93.47147369384766,-93.47147369384766,-93.47147369384766,-93.47147369384766,-78.08145141601562,-93.47147369384766,-26.206796646118164,-199.68589782714844,-199.68589782714844,-199.68589782714844,-149.43353271484375,-101.17831420898438,-101.17831420898438,-108.92723083496094,-108.92723083496094,-117.62576293945312,-117.62576293945312,244.5290069580078,244.5290069580078,244.5290069580078,166.6660614013672,245.9467010498047,245.9467010498047,245.9467010498047,245.9467010498047,245.9467010498047,208.54299926757812,82.1038818359375,90.59619140625,116.21653747558594,-280.6258850097656,-280.6258850097656,-280.6258850097656,-280.6258850097656,-280.6258850097656,-280.6258850097656,-203.9713592529297,-203.9713592529297,-203.9713592529297,-203.9713592529297,-203.9713592529297,-158.3308563232422,-216.7137908935547,-216.7137908935547,-216.7137908935547,-182.8627166748047,-182.8627166748047,-78.08145141601562,-78.08145141601562,-93.47147369384766,-93.47147369384766,-85.59782409667969,-93.47147369384766,-93.47147369384766,-93.47147369384766,-78.08145141601562,-93.47147369384766,-93.47147369384766,-45.63127899169922,-199.68589782714844,-149.43353271484375,-93.73172760009766,-93.73172760009766,-108.92723083496094,-108.92723083496094,-108.92723083496094,-108.92723083496094,-117.62576293945312,244.5290069580078,244.5290069580078,244.5290069580078,244.5290069580078,209.2525634765625,165.66673278808594,165.66673278808594,245.9467010498047,245.9467010498047,245.9467010498047,245.9467010498047,235.33018493652344,245.9467010498047,245.9467010498047,82.1038818359375,55.442256927490234,110.81485748291016,-280.6258850097656,-280.6258850097656,-280.6258850097656,-280.6258850097656,-280.6258850097656,-256.425537109375,-205.79019165039062,-205.79019165039062,-205.79019165039062,-205.79019165039062,-205.79019165039062,-172.28811645507812,-159.88461303710938,-216.7137908935547,-203.3494415283203,-216.7137908935547,-216.7137908935547,-216.7137908935547,-29.719099044799805,-35.11763000488281,-35.11763000488281,-35.11763000488281,-35.11763000488281,-35.11763000488281,-35.11763000488281,-29.719099044799805,-29.719099044799805,-53.43592834472656,-35.11763000488281,-214.8097381591797,-145.6634521484375,-145.6634521484375,-101.17831420898438,-93.73172760009766,-152.76100158691406,-159.68951416015625,-159.68951416015625,209.2525634765625,244.5290069580078,244.5290069580078,165.66673278808594,165.66673278808594,126.7563705444336,245.9467010498047,245.9467010498047,245.9467010498047,245.9467010498047,208.54299926757812,208.54299926757812,62.05294418334961,-275.0208435058594,-275.0208435058594,-275.0208435058594,-275.0208435058594,-278.82763671875,-275.0208435058594,-275.0208435058594,-275.0208435058594,-205.79019165039062,-205.79019165039062,-205.79019165039062,-172.28811645507812,-172.28811645507812,-205.79019165039062,-205.79019165039062,-205.79019165039062,-216.7137908935547,-232.93382263183594,-216.7137908935547,-216.7137908935547,-216.7137908935547,-216.7137908935547,-35.11763000488281,-29.719099044799805,-35.11763000488281,-35.11763000488281,-35.11763000488281,-35.11763000488281,-35.11763000488281,-35.11763000488281,-35.11763000488281,-35.11763000488281,-35.11763000488281,-199.68589782714844,-199.68589782714844,-199.68589782714844,-199.68589782714844,-145.6634521484375,-145.6634521484375,-145.6634521484375,-101.17831420898438,-101.17831420898438,-159.68951416015625,-159.68951416015625,-159.68951416015625,244.5290069580078,244.5290069580078,244.5290069580078,244.5290069580078,165.66673278808594,133.0902557373047,133.0902557373047,245.9467010498047,245.9467010498047,289.80517578125,289.80517578125,245.9467010498047,245.9467010498047,82.1038818359375,82.1038818359375,116.21653747558594,-216.7137908935547,-216.7137908935547,-216.7137908935547,-216.7137908935547,-216.7137908935547,-35.11763000488281,-35.11763000488281,-35.11763000488281,-35.11763000488281,-35.11763000488281,-35.11763000488281,-35.11763000488281,-35.11763000488281,-35.11763000488281,-199.68589782714844,-199.68589782714844,-145.6634521484375,-145.6634521484375,-145.6634521484375,-101.17831420898438,-101.17831420898438,-159.68951416015625,-159.68951416015625,-159.68951416015625,-159.68951416015625,244.5290069580078,244.5290069580078,165.66673278808594,133.0902557373047,133.0902557373047,289.80517578125,289.80517578125,289.80517578125,289.80517578125,289.80517578125,289.80517578125,82.1038818359375,82.1038818359375,116.21653747558594],\"yaxis\":\"y\",\"type\":\"scatter\"},{\"hovertemplate\":\"color=0.0\\u003cbr\\u003ex=%{x}\\u003cbr\\u003ey=%{y}\\u003cextra\\u003e\\u003c\\u002fextra\\u003e\",\"legendgroup\":\"0.0\",\"marker\":{\"color\":\"#EF553B\",\"symbol\":\"circle\"},\"mode\":\"markers\",\"name\":\"0.0\",\"orientation\":\"v\",\"showlegend\":true,\"x\":[-170.8321075439453,-242.18553161621094,-220.59298706054688,-208.9257049560547,-18.706275939941406,-18.706275939941406,75.42448425292969,75.42448425292969,-170.8321075439453,-263.539306640625,-220.59298706054688,75.90242767333984,-46.6810302734375,-18.706275939941406,92.89994812011719,65.46015167236328,65.46015167236328,-236.97483825683594,-46.05463790893555,-33.61560821533203,75.90242767333984,150.07301330566406,113.81977844238281,107.8201904296875,-161.67628479003906,-263.539306640625,-242.18553161621094,-220.59298706054688,-220.59298706054688,-69.2618637084961,-67.90949249267578,70.02306365966797,101.72270202636719,107.8201904296875,-123.65071868896484,-259.0047302246094,-242.18553161621094,-220.59298706054688,-33.61560821533203,70.02306365966797,174.23587036132812,37.044677734375,59.631805419921875,37.044677734375,21.771135330200195,21.771135330200195,76.2606430053711,89.88294982910156,89.88294982910156,156.45372009277344,-136.92845153808594,-223.34701538085938,-223.34701538085938,-193.27943420410156,-132.5671844482422,-132.5671844482422,-132.5671844482422,-123.52255249023438,-33.21326446533203,204.6541748046875,231.30091857910156,37.044677734375,37.044677734375,59.631805419921875,19.287630081176758,21.771135330200195,19.287630081176758,76.2606430053711,76.2606430053711,157.5812225341797,-250.1309814453125,-223.34701538085938,-250.1309814453125,-132.5671844482422,-110.8628158569336,-110.8628158569336,-121.75723266601562,-143.48048400878906,-45.98529052734375,245.54644775390625,-30.919776916503906,-23.03736686706543,128.5238037109375,128.5238037109375,128.5238037109375,-220.5364227294922,-220.5364227294922,-220.5364227294922,-110.8628158569336,-110.8628158569336,-159.4534149169922,-155.94345092773438,-33.21326446533203,-33.21326446533203,231.30091857910156,-30.919776916503906,-23.03736686706543,104.18207550048828,104.18207550048828,131.17140197753906,131.17140197753906,156.45372009277344,-102.95441436767578,-220.5364227294922,-220.5364227294922,-132.5671844482422,-132.5671844482422,-132.5671844482422,-132.5671844482422,-132.5671844482422,-155.94345092773438,-155.94345092773438,-155.94345092773438,-33.21326446533203,-33.21326446533203,204.6541748046875,204.6541748046875,231.30091857910156,104.18207550048828,104.18207550048828,131.17140197753906,131.17140197753906,-220.5364227294922,-132.5671844482422,-132.5671844482422,-132.5671844482422,-132.5671844482422,-155.94345092773438,-155.94345092773438,-155.94345092773438,-64.36563873291016,204.6541748046875,204.6541748046875,231.30091857910156],\"xaxis\":\"x\",\"y\":[-21.202190399169922,17.985525131225586,53.575164794921875,81.21485137939453,-44.61915588378906,-44.61915588378906,-8.94802188873291,-8.94802188873291,-21.202190399169922,-1.703640103340149,53.575164794921875,121.44879913330078,-15.418533325195312,-44.61915588378906,-69.57097625732422,20.45964241027832,20.45964241027832,-7.873392581939697,61.63576126098633,94.1038818359375,121.44879913330078,202.8324432373047,-63.53062438964844,-6.58007287979126,19.409658432006836,-1.703640103340149,17.985525131225586,53.575164794921875,53.575164794921875,112.63446807861328,86.5107650756836,174.0638885498047,-48.48780822753906,-6.58007287979126,17.85223388671875,43.25911331176758,17.985525131225586,53.575164794921875,94.1038818359375,174.0638885498047,176.480224609375,-280.6258850097656,-254.43380737304688,-280.6258850097656,-203.9713592529297,-203.9713592529297,-158.3308563232422,-175.99560546875,-175.99560546875,-45.63127899169922,-149.43353271484375,-108.92723083496094,-108.92723083496094,-117.62576293945312,244.5290069580078,244.5290069580078,244.5290069580078,161.22787475585938,245.9467010498047,82.1038818359375,116.21653747558594,-280.6258850097656,-280.6258850097656,-254.43380737304688,-170.7228240966797,-203.9713592529297,-170.7228240966797,-158.3308563232422,-158.3308563232422,-26.206796646118164,-123.77239227294922,-108.92723083496094,-123.77239227294922,244.5290069580078,209.2525634765625,209.2525634765625,143.25364685058594,166.6660614013672,208.54299926757812,90.59619140625,-205.79019165039062,-172.28811645507812,-140.24111938476562,-140.24111938476562,-140.24111938476562,-159.68951416015625,-159.68951416015625,-159.68951416015625,209.2525634765625,209.2525634765625,216.11952209472656,133.0902557373047,245.9467010498047,245.9467010498047,116.21653747558594,-205.79019165039062,-172.28811645507812,-138.42715454101562,-138.42715454101562,-216.7137908935547,-216.7137908935547,-45.63127899169922,-145.6634521484375,-159.68951416015625,-159.68951416015625,244.5290069580078,244.5290069580078,244.5290069580078,244.5290069580078,244.5290069580078,133.0902557373047,133.0902557373047,133.0902557373047,245.9467010498047,245.9467010498047,82.1038818359375,82.1038818359375,116.21653747558594,-138.42715454101562,-138.42715454101562,-216.7137908935547,-216.7137908935547,-159.68951416015625,244.5290069580078,244.5290069580078,244.5290069580078,244.5290069580078,133.0902557373047,133.0902557373047,133.0902557373047,289.80517578125,82.1038818359375,82.1038818359375,116.21653747558594],\"yaxis\":\"y\",\"type\":\"scatter\"}],                        {\"template\":{\"data\":{\"histogram2dcontour\":[{\"type\":\"histogram2dcontour\",\"colorbar\":{\"outlinewidth\":0,\"ticks\":\"\"},\"colorscale\":[[0.0,\"#0d0887\"],[0.1111111111111111,\"#46039f\"],[0.2222222222222222,\"#7201a8\"],[0.3333333333333333,\"#9c179e\"],[0.4444444444444444,\"#bd3786\"],[0.5555555555555556,\"#d8576b\"],[0.6666666666666666,\"#ed7953\"],[0.7777777777777778,\"#fb9f3a\"],[0.8888888888888888,\"#fdca26\"],[1.0,\"#f0f921\"]]}],\"choropleth\":[{\"type\":\"choropleth\",\"colorbar\":{\"outlinewidth\":0,\"ticks\":\"\"}}],\"histogram2d\":[{\"type\":\"histogram2d\",\"colorbar\":{\"outlinewidth\":0,\"ticks\":\"\"},\"colorscale\":[[0.0,\"#0d0887\"],[0.1111111111111111,\"#46039f\"],[0.2222222222222222,\"#7201a8\"],[0.3333333333333333,\"#9c179e\"],[0.4444444444444444,\"#bd3786\"],[0.5555555555555556,\"#d8576b\"],[0.6666666666666666,\"#ed7953\"],[0.7777777777777778,\"#fb9f3a\"],[0.8888888888888888,\"#fdca26\"],[1.0,\"#f0f921\"]]}],\"heatmap\":[{\"type\":\"heatmap\",\"colorbar\":{\"outlinewidth\":0,\"ticks\":\"\"},\"colorscale\":[[0.0,\"#0d0887\"],[0.1111111111111111,\"#46039f\"],[0.2222222222222222,\"#7201a8\"],[0.3333333333333333,\"#9c179e\"],[0.4444444444444444,\"#bd3786\"],[0.5555555555555556,\"#d8576b\"],[0.6666666666666666,\"#ed7953\"],[0.7777777777777778,\"#fb9f3a\"],[0.8888888888888888,\"#fdca26\"],[1.0,\"#f0f921\"]]}],\"heatmapgl\":[{\"type\":\"heatmapgl\",\"colorbar\":{\"outlinewidth\":0,\"ticks\":\"\"},\"colorscale\":[[0.0,\"#0d0887\"],[0.1111111111111111,\"#46039f\"],[0.2222222222222222,\"#7201a8\"],[0.3333333333333333,\"#9c179e\"],[0.4444444444444444,\"#bd3786\"],[0.5555555555555556,\"#d8576b\"],[0.6666666666666666,\"#ed7953\"],[0.7777777777777778,\"#fb9f3a\"],[0.8888888888888888,\"#fdca26\"],[1.0,\"#f0f921\"]]}],\"contourcarpet\":[{\"type\":\"contourcarpet\",\"colorbar\":{\"outlinewidth\":0,\"ticks\":\"\"}}],\"contour\":[{\"type\":\"contour\",\"colorbar\":{\"outlinewidth\":0,\"ticks\":\"\"},\"colorscale\":[[0.0,\"#0d0887\"],[0.1111111111111111,\"#46039f\"],[0.2222222222222222,\"#7201a8\"],[0.3333333333333333,\"#9c179e\"],[0.4444444444444444,\"#bd3786\"],[0.5555555555555556,\"#d8576b\"],[0.6666666666666666,\"#ed7953\"],[0.7777777777777778,\"#fb9f3a\"],[0.8888888888888888,\"#fdca26\"],[1.0,\"#f0f921\"]]}],\"surface\":[{\"type\":\"surface\",\"colorbar\":{\"outlinewidth\":0,\"ticks\":\"\"},\"colorscale\":[[0.0,\"#0d0887\"],[0.1111111111111111,\"#46039f\"],[0.2222222222222222,\"#7201a8\"],[0.3333333333333333,\"#9c179e\"],[0.4444444444444444,\"#bd3786\"],[0.5555555555555556,\"#d8576b\"],[0.6666666666666666,\"#ed7953\"],[0.7777777777777778,\"#fb9f3a\"],[0.8888888888888888,\"#fdca26\"],[1.0,\"#f0f921\"]]}],\"mesh3d\":[{\"type\":\"mesh3d\",\"colorbar\":{\"outlinewidth\":0,\"ticks\":\"\"}}],\"scatter\":[{\"fillpattern\":{\"fillmode\":\"overlay\",\"size\":10,\"solidity\":0.2},\"type\":\"scatter\"}],\"parcoords\":[{\"type\":\"parcoords\",\"line\":{\"colorbar\":{\"outlinewidth\":0,\"ticks\":\"\"}}}],\"scatterpolargl\":[{\"type\":\"scatterpolargl\",\"marker\":{\"colorbar\":{\"outlinewidth\":0,\"ticks\":\"\"}}}],\"bar\":[{\"error_x\":{\"color\":\"#2a3f5f\"},\"error_y\":{\"color\":\"#2a3f5f\"},\"marker\":{\"line\":{\"color\":\"#E5ECF6\",\"width\":0.5},\"pattern\":{\"fillmode\":\"overlay\",\"size\":10,\"solidity\":0.2}},\"type\":\"bar\"}],\"scattergeo\":[{\"type\":\"scattergeo\",\"marker\":{\"colorbar\":{\"outlinewidth\":0,\"ticks\":\"\"}}}],\"scatterpolar\":[{\"type\":\"scatterpolar\",\"marker\":{\"colorbar\":{\"outlinewidth\":0,\"ticks\":\"\"}}}],\"histogram\":[{\"marker\":{\"pattern\":{\"fillmode\":\"overlay\",\"size\":10,\"solidity\":0.2}},\"type\":\"histogram\"}],\"scattergl\":[{\"type\":\"scattergl\",\"marker\":{\"colorbar\":{\"outlinewidth\":0,\"ticks\":\"\"}}}],\"scatter3d\":[{\"type\":\"scatter3d\",\"line\":{\"colorbar\":{\"outlinewidth\":0,\"ticks\":\"\"}},\"marker\":{\"colorbar\":{\"outlinewidth\":0,\"ticks\":\"\"}}}],\"scattermapbox\":[{\"type\":\"scattermapbox\",\"marker\":{\"colorbar\":{\"outlinewidth\":0,\"ticks\":\"\"}}}],\"scatterternary\":[{\"type\":\"scatterternary\",\"marker\":{\"colorbar\":{\"outlinewidth\":0,\"ticks\":\"\"}}}],\"scattercarpet\":[{\"type\":\"scattercarpet\",\"marker\":{\"colorbar\":{\"outlinewidth\":0,\"ticks\":\"\"}}}],\"carpet\":[{\"aaxis\":{\"endlinecolor\":\"#2a3f5f\",\"gridcolor\":\"white\",\"linecolor\":\"white\",\"minorgridcolor\":\"white\",\"startlinecolor\":\"#2a3f5f\"},\"baxis\":{\"endlinecolor\":\"#2a3f5f\",\"gridcolor\":\"white\",\"linecolor\":\"white\",\"minorgridcolor\":\"white\",\"startlinecolor\":\"#2a3f5f\"},\"type\":\"carpet\"}],\"table\":[{\"cells\":{\"fill\":{\"color\":\"#EBF0F8\"},\"line\":{\"color\":\"white\"}},\"header\":{\"fill\":{\"color\":\"#C8D4E3\"},\"line\":{\"color\":\"white\"}},\"type\":\"table\"}],\"barpolar\":[{\"marker\":{\"line\":{\"color\":\"#E5ECF6\",\"width\":0.5},\"pattern\":{\"fillmode\":\"overlay\",\"size\":10,\"solidity\":0.2}},\"type\":\"barpolar\"}],\"pie\":[{\"automargin\":true,\"type\":\"pie\"}]},\"layout\":{\"autotypenumbers\":\"strict\",\"colorway\":[\"#636efa\",\"#EF553B\",\"#00cc96\",\"#ab63fa\",\"#FFA15A\",\"#19d3f3\",\"#FF6692\",\"#B6E880\",\"#FF97FF\",\"#FECB52\"],\"font\":{\"color\":\"#2a3f5f\"},\"hovermode\":\"closest\",\"hoverlabel\":{\"align\":\"left\"},\"paper_bgcolor\":\"white\",\"plot_bgcolor\":\"#E5ECF6\",\"polar\":{\"bgcolor\":\"#E5ECF6\",\"angularaxis\":{\"gridcolor\":\"white\",\"linecolor\":\"white\",\"ticks\":\"\"},\"radialaxis\":{\"gridcolor\":\"white\",\"linecolor\":\"white\",\"ticks\":\"\"}},\"ternary\":{\"bgcolor\":\"#E5ECF6\",\"aaxis\":{\"gridcolor\":\"white\",\"linecolor\":\"white\",\"ticks\":\"\"},\"baxis\":{\"gridcolor\":\"white\",\"linecolor\":\"white\",\"ticks\":\"\"},\"caxis\":{\"gridcolor\":\"white\",\"linecolor\":\"white\",\"ticks\":\"\"}},\"coloraxis\":{\"colorbar\":{\"outlinewidth\":0,\"ticks\":\"\"}},\"colorscale\":{\"sequential\":[[0.0,\"#0d0887\"],[0.1111111111111111,\"#46039f\"],[0.2222222222222222,\"#7201a8\"],[0.3333333333333333,\"#9c179e\"],[0.4444444444444444,\"#bd3786\"],[0.5555555555555556,\"#d8576b\"],[0.6666666666666666,\"#ed7953\"],[0.7777777777777778,\"#fb9f3a\"],[0.8888888888888888,\"#fdca26\"],[1.0,\"#f0f921\"]],\"sequentialminus\":[[0.0,\"#0d0887\"],[0.1111111111111111,\"#46039f\"],[0.2222222222222222,\"#7201a8\"],[0.3333333333333333,\"#9c179e\"],[0.4444444444444444,\"#bd3786\"],[0.5555555555555556,\"#d8576b\"],[0.6666666666666666,\"#ed7953\"],[0.7777777777777778,\"#fb9f3a\"],[0.8888888888888888,\"#fdca26\"],[1.0,\"#f0f921\"]],\"diverging\":[[0,\"#8e0152\"],[0.1,\"#c51b7d\"],[0.2,\"#de77ae\"],[0.3,\"#f1b6da\"],[0.4,\"#fde0ef\"],[0.5,\"#f7f7f7\"],[0.6,\"#e6f5d0\"],[0.7,\"#b8e186\"],[0.8,\"#7fbc41\"],[0.9,\"#4d9221\"],[1,\"#276419\"]]},\"xaxis\":{\"gridcolor\":\"white\",\"linecolor\":\"white\",\"ticks\":\"\",\"title\":{\"standoff\":15},\"zerolinecolor\":\"white\",\"automargin\":true,\"zerolinewidth\":2},\"yaxis\":{\"gridcolor\":\"white\",\"linecolor\":\"white\",\"ticks\":\"\",\"title\":{\"standoff\":15},\"zerolinecolor\":\"white\",\"automargin\":true,\"zerolinewidth\":2},\"scene\":{\"xaxis\":{\"backgroundcolor\":\"#E5ECF6\",\"gridcolor\":\"white\",\"linecolor\":\"white\",\"showbackground\":true,\"ticks\":\"\",\"zerolinecolor\":\"white\",\"gridwidth\":2},\"yaxis\":{\"backgroundcolor\":\"#E5ECF6\",\"gridcolor\":\"white\",\"linecolor\":\"white\",\"showbackground\":true,\"ticks\":\"\",\"zerolinecolor\":\"white\",\"gridwidth\":2},\"zaxis\":{\"backgroundcolor\":\"#E5ECF6\",\"gridcolor\":\"white\",\"linecolor\":\"white\",\"showbackground\":true,\"ticks\":\"\",\"zerolinecolor\":\"white\",\"gridwidth\":2}},\"shapedefaults\":{\"line\":{\"color\":\"#2a3f5f\"}},\"annotationdefaults\":{\"arrowcolor\":\"#2a3f5f\",\"arrowhead\":0,\"arrowwidth\":1},\"geo\":{\"bgcolor\":\"white\",\"landcolor\":\"#E5ECF6\",\"subunitcolor\":\"white\",\"showland\":true,\"showlakes\":true,\"lakecolor\":\"white\"},\"title\":{\"x\":0.05},\"mapbox\":{\"style\":\"light\"}}},\"xaxis\":{\"anchor\":\"y\",\"domain\":[0.0,1.0],\"title\":{\"text\":\"x\"}},\"yaxis\":{\"anchor\":\"x\",\"domain\":[0.0,1.0],\"title\":{\"text\":\"y\"}},\"legend\":{\"title\":{\"text\":\"color\"},\"tracegroupgap\":0},\"margin\":{\"t\":60}},                        {\"responsive\": true}                    ).then(function(){\n",
       "                            \n",
       "var gd = document.getElementById('ab841bb4-7d99-4518-920b-716ec72cada9');\n",
       "var x = new MutationObserver(function (mutations, observer) {{\n",
       "        var display = window.getComputedStyle(gd).display;\n",
       "        if (!display || display === 'none') {{\n",
       "            console.log([gd, 'removed!']);\n",
       "            Plotly.purge(gd);\n",
       "            observer.disconnect();\n",
       "        }}\n",
       "}});\n",
       "\n",
       "// Listen for the removal of the full notebook cells\n",
       "var notebookContainer = gd.closest('#notebook-container');\n",
       "if (notebookContainer) {{\n",
       "    x.observe(notebookContainer, {childList: true});\n",
       "}}\n",
       "\n",
       "// Listen for the clearing of the current output cell\n",
       "var outputEl = gd.closest('.output');\n",
       "if (outputEl) {{\n",
       "    x.observe(outputEl, {childList: true});\n",
       "}}\n",
       "\n",
       "                        })                };                });            </script>        </div>"
      ]
     },
     "metadata": {},
     "output_type": "display_data"
    }
   ],
   "source": [
    "fig = px.scatter( x=out_df[0], y=out_df[1], color=out_df['success'].astype(str))\n",
    "fig.show()"
   ]
  }
 ],
 "metadata": {
  "kernelspec": {
   "display_name": ".venv",
   "language": "python",
   "name": "python3"
  },
  "language_info": {
   "codemirror_mode": {
    "name": "ipython",
    "version": 3
   },
   "file_extension": ".py",
   "mimetype": "text/x-python",
   "name": "python",
   "nbconvert_exporter": "python",
   "pygments_lexer": "ipython3",
   "version": "3.10.6"
  },
  "orig_nbformat": 4
 },
 "nbformat": 4,
 "nbformat_minor": 2
}
